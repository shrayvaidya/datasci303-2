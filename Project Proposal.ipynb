{
 "cells": [
  {
   "cell_type": "raw",
   "id": "33dd6c4c",
   "metadata": {},
   "source": [
    "---\n",
    "title: \"Project proposal\"\n",
    "format: \n",
    "  html:\n",
    "    toc: true\n",
    "    toc-title: Contents\n",
    "    code-fold: show\n",
    "    self-contained: true\n",
    "jupyter: python3\n",
    "---"
   ]
  },
  {
   "cell_type": "markdown",
   "id": "0116f49b",
   "metadata": {},
   "source": [
    "## Instructions {-}\n",
    "\n",
    "1. Please answer the following questions as part of your project proposal.\n",
    "\n",
    "2. Write your answers in the *Markdown* cells of the Jupyter notebook. You don't need to write any code, but if you want to, you may use the *Code* cells.\n",
    "\n",
    "3. Use [Quarto](https://quarto.org/docs/output-formats/html-basics.html) to print the *.ipynb* file as HTML. You will need to open the command prompt, navigate to the directory containing the file, and use the command: `quarto render filename.ipynb --to html`. Submit the HTML file.\n",
    "\n",
    "4. The project proposal is worth 8 points, and is due on **27th January 2023 at 11:59 pm**. \n",
    "\n",
    "5. You must make one submission as a group, and not individually.\n",
    "\n",
    "6. Each team member must have at least **one commit** on the team's github repository. No points will be awarded to the team member(s) with no commits.\n",
    "\n",
    "7. Share the link of your project's GitHub repository [here](https://docs.google.com/spreadsheets/d/1khao3unpj_vsx4kOSg_Zzo77YK1UWL2w73Oa0aAirOo/edit#gid=0)."
   ]
  },
  {
   "cell_type": "markdown",
   "id": "fe7ea9bb",
   "metadata": {},
   "source": [
    "# 1) Team name\n",
    "Mention your team name.\n",
    "\n",
    "*(0 points)*"
   ]
  },
  {
   "cell_type": "markdown",
   "id": "cfc4b587",
   "metadata": {},
   "source": [
    "Group SIMP"
   ]
  },
  {
   "cell_type": "markdown",
   "id": "16fccc9b",
   "metadata": {},
   "source": [
    "# 2) Member names\n",
    "Mention the names of your team members.\n",
    "\n",
    "*(0 points)*"
   ]
  },
  {
   "cell_type": "markdown",
   "id": "da99d1ba",
   "metadata": {},
   "source": [
    "Shray Vaidya, Izzy Podolsky, Mingyi Gong, Peggy Han"
   ]
  },
  {
   "cell_type": "markdown",
   "id": "220a6528",
   "metadata": {},
   "source": [
    "# 3) Link to the GitHub repository\n",
    "Share the link of the team's project repository on GitHub.\n",
    "\n",
    "Also, put the link of your project's GitHub repository [here](https://docs.google.com/spreadsheets/d/1khao3unpj_vsx4kOSg_Zzo77YK1UWL2w73Oa0aAirOo/edit#gid=0).\n",
    "\n",
    "We believe there is no harm in having other teams view your GitHub repository. However, if you don't want anyone to see your team's work, you may make the repository *Private* and add your instructor and graduate TA as *Colloborators* in it.\n",
    "\n",
    "*(0 points)*"
   ]
  },
  {
   "cell_type": "markdown",
   "id": "82803385",
   "metadata": {},
   "source": [
    "https://github.dev/shrayvaidya/datasci303-2/"
   ]
  },
  {
   "cell_type": "markdown",
   "id": "16c1a490",
   "metadata": {},
   "source": [
    "# 4) Topic\n",
    "Mention the topic of your course project.\n",
    "\n",
    "*(0.25 points)*"
   ]
  },
  {
   "cell_type": "markdown",
   "id": "58b4fa16",
   "metadata": {},
   "source": [
    "The topic of our project is to predict university expenditure based on factors like university's ranking, acceptance rate, tuition, etc. "
   ]
  },
  {
   "cell_type": "markdown",
   "id": "852fed39",
   "metadata": {},
   "source": []
  },
  {
   "cell_type": "markdown",
   "id": "9403cdfb",
   "metadata": {},
   "source": [
    "# 5) Problem statement\n",
    "Explain the problem statement. The problem statement must include:\n",
    "\n",
    "1. The problem\n",
    "\n",
    "2. Is it a regression or classification problem or a combination of both?\n",
    "\n",
    "3. Is it an inference or prediction problem or a combination of both?\n",
    "\n",
    "4. How will you assess model accuracy?\n",
    "\n",
    "  - If it is a classification problem, then which measure(s) will you optimize for your model – precision, recall, false negative rate (FNR), accuracy, ROC-AUC etc., and why?\n",
    "  - If it is a regression problem, then which measure(s) will you optimize for your model – RMSE (Root mean squared error), MAE (mean absolute error), maximum absolute error etc., and why?\n",
    "\n",
    "5. What techniques do you think you may need to use to improve your model? If you have too many variables, some of which are  correlated or collinear, you may need to do variable selection *(techniques for variable selection that you will learn later in the course - stepwise regression, lasso, ridge regression)*. If the variables do not have a linear relationship with the response, or if some of the modeling assumptions are not satisfied, you may need to transform the predictors and/or the response (variable transformation) to obtain a better fit.\n",
    "\n",
    "*(5 points)*"
   ]
  },
  {
   "attachments": {},
   "cell_type": "markdown",
   "id": "44d05d9f",
   "metadata": {},
   "source": [
    "1. We are aiming to predict U.S. university's expediture with other other factors of the university (ranking, acceptance rate, etc.) being the predictors. \n",
    "\n",
    "2. This is a regression problem as the response (university expenditure) is a continuous variable and directly predicts the continuous response will be important part of our work.\n",
    "\n",
    "3. This problem is a combination of both inference and prediction, as we are interested in predicting the expenditure and also which university features are associated with expenditure. \n",
    "\n",
    "4. We will assess the model accuray using RMSE, because large errors are particularly undesirable in this model. Large inaccuracies in predicting expenditure may lead to problems with the institution's budget. \n",
    "\n",
    "5. To improve the model, we plan to implement multiple methods: we would definitely need to do some variable selection as there are numerous features of a university. Also, we might need to transform predictors to obtain a better fit. "
   ]
  },
  {
   "cell_type": "markdown",
   "id": "a57b8c7d",
   "metadata": {},
   "source": []
  },
  {
   "cell_type": "markdown",
   "id": "3eb2d4f2",
   "metadata": {},
   "source": [
    "# 6) Data sources\n",
    "\n",
    "What data sources will you use, and how will the data help answer the questions? Explain.\n",
    "\n",
    "If the data is open source, share the link of the data.\n",
    "\n",
    "*(1 point)*"
   ]
  },
  {
   "attachments": {},
   "cell_type": "markdown",
   "id": "ca9104e2",
   "metadata": {},
   "source": [
    "1. https://www.kaggle.com/datasets/theriley106/university-statistics?resource=download - This dataset contains information about the rankings, average test scores, financial aid, and more for 311 universities.\n",
    "\n",
    "2. https://collegescorecard.ed.gov/data/ - This dataset has information about expenditure, student outcomes, and other university characteristics. \n",
    "\n",
    "3. https://andyreiter.com/datasets/ - This dataset contains all the US News National University rankings since 1984.\n",
    "\n",
    "We will pull the appropriate data from a combination of these open source datasets to answer our problem outlined above; we do not anticipate that it will be difficult to combine expenditure and ranking data into a singular, logical dataset for training. We would first use part of data to train our model and then test our model with other data."
   ]
  },
  {
   "cell_type": "markdown",
   "id": "a3e4946b",
   "metadata": {},
   "source": []
  },
  {
   "cell_type": "markdown",
   "id": "cb8a845f",
   "metadata": {},
   "source": [
    "# 7) Stakeholders"
   ]
  },
  {
   "cell_type": "markdown",
   "id": "d39c782c",
   "metadata": {},
   "source": [
    "Who are the stakeholders, and how will your project benefit them? Explain.\n",
    "\n",
    "*(1 point)*"
   ]
  },
  {
   "cell_type": "markdown",
   "id": "11a69517",
   "metadata": {},
   "source": [
    "The stakeholders for this project are students, who may be interested in seeing how their university's ranking, average test scores, and other factors are all associated with the university's expenditure, especially as compared to peer institutions. This can help them determine whether they should push their university to spend more or not. Universities themselves are also stakeholders in this project, as understanding the association between expenditure and other variables can provide insight to universities about whether or not spending more may improve their other attributes, such as rankings. "
   ]
  },
  {
   "cell_type": "markdown",
   "id": "373c0608",
   "metadata": {},
   "source": []
  },
  {
   "cell_type": "markdown",
   "id": "57e41b2a",
   "metadata": {},
   "source": [
    "# 8) Results\n",
    "What kind of results do you expect? \n",
    "\n",
    "How much accuracy is required / desired in your model (based on the metric(s) chosen in question 5), such that it is useful to the stakeholders and why?\n",
    "\n",
    "**Hint:** If it is a classification model, then your model must be at least better than random classification. If it is a regression model, then your model must be at least better than trivial models, such as the one with only the intercept term.\n",
    "\n",
    "*(0.5 point)*"
   ]
  },
  {
   "attachments": {},
   "cell_type": "markdown",
   "id": "a44f5f96",
   "metadata": {},
   "source": [
    "Our hypothesized result is that higher quantities of university expenditure are linked to higher rankings and lower acceptance rates. In order for our model to be accurate, the coefficients on the rankings variable and the acceptance rates variable must be statistically significant at an alpha value of 0.05. While we will test other variables, these are the variables that are most important to the stakeholders because they are the metrics that receive the most attention and grant universities prestige. We will also look at F-statistics and probability of F-statistics for model's overall significance (at 0.05 level). The RMSE for our model will also be much smaller than trivial models. Thus, our stakeholders will be able to use our model to see how much university will spend."
   ]
  },
  {
   "cell_type": "markdown",
   "id": "0c874b4f",
   "metadata": {},
   "source": [
    "# 9) Work-split\n",
    "How do you plan to split the project work amongst individual team members?\n",
    "\n",
    "*(0.25 point)*"
   ]
  },
  {
   "cell_type": "markdown",
   "id": "0c3243ab",
   "metadata": {},
   "source": [
    "One team member will be responsible for merging and cleaning the datasets, as well as determining correlation between variables. One team member will be responsible for running the multivariate regression model and singling out the prediction effects. One team member will be responsible for running the multivariate regression model and singling out the inferential effects. One team member will use the prior data analyses to make recommendations to shareholders."
   ]
  }
 ],
 "metadata": {
  "kernelspec": {
   "display_name": "Python 3 (ipykernel)",
   "language": "python",
   "name": "python3"
  },
  "language_info": {
   "codemirror_mode": {
    "name": "ipython",
    "version": 3
   },
   "file_extension": ".py",
   "mimetype": "text/x-python",
   "name": "python",
   "nbconvert_exporter": "python",
   "pygments_lexer": "ipython3",
   "version": "3.9.12"
  }
 },
 "nbformat": 4,
 "nbformat_minor": 5
}
