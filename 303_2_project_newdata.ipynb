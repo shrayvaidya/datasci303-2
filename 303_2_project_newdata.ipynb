{
 "cells": [
  {
   "cell_type": "code",
   "execution_count": 72,
   "id": "b70170ff",
   "metadata": {},
   "outputs": [],
   "source": [
    "import pandas as pd\n",
    "import numpy as np\n",
    "import statsmodels.formula.api as sm\n",
    "import seaborn as sns\n",
    "import matplotlib.pyplot as plt\n",
    "from sklearn.model_selection import train_test_split\n",
    "from sklearn.model_selection import LeaveOneOut\n",
    "from sklearn.model_selection import cross_val_score\n",
    "from sklearn.linear_model import LinearRegression\n",
    "from sklearn.linear_model import LogisticRegression\n",
    "from sklearn.metrics import accuracy_score\n",
    "import warnings\n",
    "warnings.filterwarnings('ignore')"
   ]
  },
  {
   "cell_type": "code",
   "execution_count": 450,
   "id": "d5dc2f27",
   "metadata": {},
   "outputs": [
    {
     "data": {
      "text/plain": [
       "(230, 38)"
      ]
     },
     "execution_count": 450,
     "metadata": {},
     "output_type": "execute_result"
    }
   ],
   "source": [
    "# based on dataset from data cleaning\n",
    "df = pd.read_csv('~/Desktop/303/newdata.csv')\n",
    "df.columns\n",
    "df= df.fillna(df.mean())\n",
    "df2 = df.loc[df.rankingSortRank > 0,:]"
   ]
  },
  {
   "cell_type": "code",
   "execution_count": 437,
   "id": "490bb075",
   "metadata": {},
   "outputs": [],
   "source": [
    "# selecting columns in int and float type for loocv\n",
    "X = df[['act_avg', 'sat_avg','percent_receiving_aid',\n",
    "       'cost_after_aid', 'hs_gpa_avg','businessRepScore', 'tuition',\n",
    "       'engineeringRepScore','branches', 'admission_rate', \n",
    "       'ug_enrollment', 'percent_white', 'percent_black', 'percent_hispanic',\n",
    "       'percent_asian', 'percent_aian', 'percent_nhpi', 'percent_twoormore',\n",
    "       'percent_nra', 'percent_unknown', 'percent_parttime', 'avg_cost',\n",
    "       'instante_tuition', 'outstate_tuition', 'tuition_revenue_per',\n",
    "       'instructional_expenditure_per', 'avg_faculty_salary',\n",
    "       'ft_faculty_rate', 'avg_net_price', 'number_titleIV', 'sat_avg']]\n",
    "Y = df[['rankingSortRank']]"
   ]
  },
  {
   "cell_type": "code",
   "execution_count": 456,
   "id": "4fc09f09",
   "metadata": {},
   "outputs": [
    {
     "data": {
      "text/plain": [
       "act_avg                          float64\n",
       "sat_avg                          float64\n",
       "percent_receiving_aid            float64\n",
       "cost_after_aid                   float64\n",
       "hs_gpa_avg                       float64\n",
       "businessRepScore                 float64\n",
       "tuition                            int64\n",
       "engineeringRepScore              float64\n",
       "branches                           int64\n",
       "admission_rate                   float64\n",
       "ug_enrollment                    float64\n",
       "percent_white                    float64\n",
       "percent_black                    float64\n",
       "percent_hispanic                 float64\n",
       "percent_asian                    float64\n",
       "percent_aian                     float64\n",
       "percent_nhpi                     float64\n",
       "percent_twoormore                float64\n",
       "percent_nra                      float64\n",
       "percent_unknown                  float64\n",
       "percent_parttime                 float64\n",
       "avg_cost                         float64\n",
       "instante_tuition                 float64\n",
       "outstate_tuition                 float64\n",
       "tuition_revenue_per              float64\n",
       "instructional_expenditure_per    float64\n",
       "avg_faculty_salary               float64\n",
       "ft_faculty_rate                  float64\n",
       "avg_net_price                    float64\n",
       "number_titleIV                   float64\n",
       "sat_avg                          float64\n",
       "dtype: object"
      ]
     },
     "execution_count": 456,
     "metadata": {},
     "output_type": "execute_result"
    }
   ],
   "source": [
    "X.dtypes"
   ]
  },
  {
   "cell_type": "code",
   "execution_count": 438,
   "id": "793cc684",
   "metadata": {},
   "outputs": [
    {
     "name": "stdout",
     "output_type": "stream",
     "text": [
      "[1, 2, 3, 3, 5, 5, 5, 8, 9, 10, 11, 11, 11, 14, 14, 14, 14, 18, 18, 20, 21, 21, 21, 21, 25, 25, 27, 28, 29, 30, 30, 32, 32, 34, 34, 34, 37, 37, 37, 40, 40, 42, 42, 42, 42, 46, 46, 46, 46, 46, 46, 52, 52, 54, 54, 56, 56, 56, 56, 56, 61, 61, 61, 61, 61, 61, 67, 68, 69, 69, 69, 69, 69, 69, 75, 75, 75, 78, 78, 78, 81, 81, 81, 81, 81, 81, 87, 87, 87, 90, 90, 90, 90, 94, 94, 94, 97, 97, 97, 97, 97, 97, 103, 103, 103, 103, 103, 103, 103, 110, 110, 110, 110, 110, 115, 115, 115, 115, 115, 120, 120, 120, 120, 124, 124, 124, 124, 124, 124, 124, 124, 132, 133, 133, 133, 133, 133, 133, 133, 140, 140, 140, 140, 140, 145, 145, 145, 145, 145, 145, 151, 151, 151, 151, 151, 156, 156, 156, 159, 159, 159, 159, 159, 159, 165, 165, 165, 165, 165, 165, 171, 171, 171, 171, 171, 176, 176, 176, 176, 176, 181, 181, 181, 181, 181, 181, 187, 187, 187, 187, 187, 192, 192, 192, 192, 192, 192, 198, 198, 198, 198, 202, 202, 202, 202, 202, 207, 207, 207, 207, 207, 207, 207, 207, 207, 216, 216, 216, 216, 216, 216, 216, 223, 223, 223, 223, 223, 223, 223, 223, -1, -1, -1, -1, -1, -1, -1, -1, -1, -1, -1, -1, -1, -1, -1, -1, -1, -1, -1, -1, -1, -1, -1, -1, -1, -1, -1, -1, -1, -1, -1, -1, -1, -1, -1, -1, -1, -1, -1, -1, -1, -1, -1, -1, -1, -1, -1, -1, -1, -1, -1, -1, -1, -1, -1, -1, -1, -1, -1, -1, -1, -1, -1, -1, -1, -1, -1, -1, -1, -1]\n",
      "-----\n",
      "[3, 14, 11, 10, 5, 5, 5, 14, 11, 3, 14, 18, 21, 25, 56, 11, 14, 34, 3, 25, 11, 81, 21, 14, 20, 46, 11, 25, 46, 52, 28, 46, 67, 34, 133, 11, 30, 11, 124, 90, 46, 46, 42, 56, 81, 29, 90, 42, 40, 81, 69, 115, 115, 52, 81, 40, 21, 97, 81, 21, 30, 69, 87, 94, 81, 75, 124, 75, 90, 115, 223, 54, 115, 69, 120, 181, 140, 103, 61, 81, 34, 176, 56, 140, 165, 78, 171, 46, -1, 56, 103, 78, 61, 124, 37, 151, 61, 145, 181, 207, 133, 25, 133, 34, 69, 159, 124, -1, 124, 97, 140, 133, 32, 207, 54, 69, 52, 97, 61, 94, 133, 61, 140, 94, -1, 181, 103, 90, 42, 94, 140, 61, -1, 87, 181, 198, 171, 171, 145, 124, 46, 187, 61, 145, 207, 171, 181, 192, 97, 81, 61, 165, -1, 124, 171, -1, 103, 103, 151, 120, 207, 34, 124, 207, 176, 223, 207, 61, 34, 97, -1, 151, 69, 207, 124, -1, 181, -1, 165, 192, -1, 181, 133, 133, 156, 216, 124, -1, -1, 165, 198, -1, 56, 140, -1, 207, 124, -1, 207, 110, -1, -1, -1, -1, 32, 207, -1, 171, -1, 216, 207, 21, 159, -1, 198, -1, -1, -1, 97, -1, 207, -1, -1, -1, -1, -1, -1, 181, -1, 192, -1, 97, 176, -1, -1, 181, -1, 216, -1, -1, -1, -1, -1, -1, -1, -1, -1, -1, -1, -1, -1, -1, -1, -1, -1, -1, 124, -1, -1, -1, -1, -1, -1, -1, -1, -1, -1, -1, -1, -1, -1, -1, 192, -1, -1, -1, -1, -1, -1, -1, -1, 202, -1, -1, -1, 223, -1, -1, -1, -1, -1, -1, -1, -1, -1, -1, -1, -1, -1, -1]\n",
      "Accuracy: 0.24\n"
     ]
    }
   ],
   "source": [
    "# use loocv to predict and get accuracy\n",
    "X = df[['act_avg', 'sat_avg','percent_receiving_aid',\n",
    "       'cost_after_aid', 'hs_gpa_avg','businessRepScore', 'tuition',\n",
    "       'engineeringRepScore','branches', 'admission_rate', \n",
    "       'ug_enrollment', 'percent_white', 'percent_black', 'percent_hispanic',\n",
    "       'percent_asian', 'percent_aian', 'percent_nhpi', 'percent_twoormore',\n",
    "       'percent_nra', 'percent_unknown', 'percent_parttime', 'avg_cost',\n",
    "       'instante_tuition', 'outstate_tuition', 'tuition_revenue_per',\n",
    "       'instructional_expenditure_per', 'avg_faculty_salary',\n",
    "       'ft_faculty_rate', 'avg_net_price', 'number_titleIV', 'sat_avg']]\n",
    "y = df[['rankingSortRank']]\n",
    "loocv = LeaveOneOut()\n",
    "loocv.get_n_splits(X)\n",
    "\n",
    "model = LogisticRegression()\n",
    "\n",
    "true = []\n",
    "predicted = []\n",
    "\n",
    "for train_index, test_index in loocv.split(X):\n",
    "\n",
    "    X_train=X.loc[train_index]\n",
    "    X_test=X.loc[test_index]\n",
    "    y_train=y.loc[train_index]\n",
    "    y_test=y.loc[test_index]\n",
    "    \n",
    "    model.fit(X_train, y_train)\n",
    "\n",
    "    y_pred = model.predict(X_test)\n",
    "\n",
    "    true.append(y_test['rankingSortRank'].values[0])\n",
    "    predicted.append(y_pred[0])\n",
    "    \n",
    "print(true)\n",
    "print(\"-----\")\n",
    "print(predicted)\n",
    "accuracy = accuracy_score(true, predicted)\n",
    "\n",
    "print(\"Accuracy:\", accuracy) # accuracy score for specific rank predicting, will do classification accuracy later"
   ]
  },
  {
   "cell_type": "code",
   "execution_count": 439,
   "id": "db298e31",
   "metadata": {},
   "outputs": [
    {
     "name": "stdout",
     "output_type": "stream",
     "text": [
      "[0, 1, 2, 3, 4, 5, 6, 7, 8, 9, 10, 11, 12, 13, 14, 15, 16, 17, 18, 19, 20, 21, 22, 23, 24, 25, 26, 27, 28, 29, 30, 31, 32, 33, 34, 35, 36, 37, 38, 39, 40, 41, 42, 43, 44, 45, 46, 47, 48, 49, 50, 230, 231, 232, 233, 234, 235, 236, 237, 238, 239, 240, 241, 242, 243, 244, 245, 246, 247, 248, 249, 250, 251, 252, 253, 254, 255, 256, 257, 258, 259, 260, 261, 262, 263, 264, 265, 266, 267, 268, 269, 270, 271, 272, 273, 274, 275, 276, 277, 278, 279, 280, 281, 282, 283, 284, 285, 286, 287, 288, 289, 290, 291, 292, 293, 294, 295, 296, 297, 298, 299]\n",
      "-----\n",
      "[51, 52, 53, 54, 55, 56, 57, 58, 59, 60, 61, 62, 63, 64, 65, 66, 67, 68, 69, 70, 71, 72, 73, 74, 75, 76, 77, 78, 79, 80, 81, 82, 83, 84, 85, 86, 87, 88, 89, 90, 91, 92, 93, 94, 95, 96, 97, 98, 99, 100, 101, 102, 103, 104, 105, 106, 107, 108, 109, 110, 111, 112, 113, 114, 115, 116, 117, 118, 119, 120, 121, 122, 123, 124, 125, 126, 127, 128, 129, 130, 131, 132, 133, 134, 135, 136, 137, 138, 139, 140, 141, 142, 143, 144, 145, 146, 147, 148, 149, 150, 151, 152, 153, 154, 155, 156, 157, 158, 159, 160, 161, 162, 163, 164, 165, 166, 167, 168, 169, 170, 171, 172, 173, 174, 175, 176, 177, 178, 179, 180, 181, 182, 183, 184, 185, 186, 187, 188, 189, 190, 191, 192, 193, 194, 195, 196, 197, 198, 199, 200, 201, 202, 203, 204, 205, 206, 207, 208, 209, 210, 211, 212, 213, 214, 215, 216, 217, 218, 219, 220, 221, 222, 223, 224, 225, 226, 227, 228, 229]\n",
      "prediction below-----------------\n",
      "[0, 1, 2, 3, 4, 5, 6, 7, 8, 9, 10, 11, 12, 13, 15, 16, 17, 18, 19, 20, 22, 23, 24, 25, 26, 27, 28, 30, 31, 33, 35, 36, 37, 40, 41, 42, 45, 47, 48, 55, 56, 59, 60, 80, 87, 88, 94, 101, 103, 107, 112, 124, 128, 132, 140, 152, 155, 161, 168, 170, 175, 177, 180, 187, 188, 191, 194, 197, 200, 201, 202, 203, 204, 206, 208, 211, 213, 215, 216, 217, 219, 221, 222, 223, 224, 225, 226, 228, 230, 233, 234, 236, 238, 239, 240, 241, 242, 243, 244, 245, 246, 247, 248, 249, 250, 251, 252, 253, 254, 255, 257, 258, 259, 260, 261, 262, 263, 264, 265, 266, 267, 268, 269, 270, 271, 273, 274, 275, 276, 277, 278, 279, 280, 282, 283, 284, 286, 287, 288, 289, 290, 291, 292, 293, 294, 295, 296, 297, 298, 299]\n",
      "-----\n",
      "[14, 21, 29, 32, 34, 38, 39, 43, 44, 46, 49, 50, 51, 52, 53, 54, 57, 58, 61, 62, 63, 64, 65, 66, 67, 68, 69, 70, 71, 72, 73, 74, 75, 76, 77, 78, 79, 81, 82, 83, 84, 85, 86, 89, 90, 91, 92, 93, 95, 96, 97, 98, 99, 100, 102, 104, 105, 106, 108, 109, 110, 111, 113, 114, 115, 116, 117, 118, 119, 120, 121, 122, 123, 125, 126, 127, 129, 130, 131, 133, 134, 135, 136, 137, 138, 139, 141, 142, 143, 144, 145, 146, 147, 148, 149, 150, 151, 153, 154, 156, 157, 158, 159, 160, 162, 163, 164, 165, 166, 167, 169, 171, 172, 173, 174, 176, 178, 179, 181, 182, 183, 184, 185, 186, 189, 190, 192, 193, 195, 196, 198, 199, 205, 207, 209, 210, 212, 214, 218, 220, 227, 229, 231, 232, 235, 237, 256, 272, 281, 285]\n"
     ]
    }
   ],
   "source": [
    "# use loocv to predict and get accuracy\n",
    "X = df[['act_avg', 'sat_avg','percent_receiving_aid',\n",
    "       'cost_after_aid', 'hs_gpa_avg','businessRepScore', 'tuition',\n",
    "       'engineeringRepScore','branches', 'admission_rate', \n",
    "       'ug_enrollment', 'percent_white', 'percent_black', 'percent_hispanic',\n",
    "       'percent_asian', 'percent_aian', 'percent_nhpi', 'percent_twoormore',\n",
    "       'percent_nra', 'percent_unknown', 'percent_parttime', 'avg_cost',\n",
    "       'instante_tuition', 'outstate_tuition', 'tuition_revenue_per',\n",
    "       'instructional_expenditure_per', 'avg_faculty_salary',\n",
    "       'ft_faculty_rate', 'avg_net_price', 'number_titleIV', 'sat_avg']]\n",
    "y = df[['rankingSortRank']]\n",
    "loocv = LeaveOneOut()\n",
    "loocv.get_n_splits(X)\n",
    "\n",
    "model = LogisticRegression()\n",
    "\n",
    "true = []\n",
    "predicted = []\n",
    "\n",
    "high_df = []\n",
    "low_df = []\n",
    "high_predicted = []\n",
    "low_predicted = []\n",
    "\n",
    "for train_index, test_index in loocv.split(X):\n",
    "\n",
    "    X_train=X.loc[train_index]\n",
    "    X_test=X.loc[test_index]\n",
    "    y_train=y.loc[train_index]\n",
    "    y_test=y.loc[test_index]\n",
    "    \n",
    "    model.fit(X_train, y_train)\n",
    "\n",
    "    y_pred = model.predict(X_test)\n",
    "\n",
    "    true.append(y_test['rankingSortRank'].values[0])\n",
    "    predicted.append(y_pred[0])\n",
    "    \n",
    "    #classifying into high and low\n",
    "    \n",
    "    if y_test['rankingSortRank'].values[0] < 50:\n",
    "        high_df.append(test_index[0])\n",
    "    else:\n",
    "        low_df.append(test_index[0])\n",
    "    if y_pred[0] < 50:\n",
    "        high_predicted.append(test_index[0])\n",
    "    else:\n",
    "        low_predicted.append(test_index[0])\n",
    "\n",
    "print(high_df)\n",
    "print(\"-----\")\n",
    "print(low_df)\n",
    "print(\"prediction below-----------------\")\n",
    "print(high_predicted)\n",
    "print(\"-----\")\n",
    "print(low_predicted)"
   ]
  },
  {
   "cell_type": "code",
   "execution_count": 440,
   "id": "5b5d7a34",
   "metadata": {},
   "outputs": [
    {
     "data": {
      "text/plain": [
       "101"
      ]
     },
     "execution_count": 440,
     "metadata": {},
     "output_type": "execute_result"
    }
   ],
   "source": [
    "correct_h = 0\n",
    "for i in high_df:\n",
    "    for j in high_predicted:\n",
    "        if i ==j:\n",
    "            correct_h = correct_h + 1 \n",
    "correct_h            "
   ]
  },
  {
   "cell_type": "code",
   "execution_count": 441,
   "id": "540ec690",
   "metadata": {
    "scrolled": false
   },
   "outputs": [
    {
     "data": {
      "text/plain": [
       "130"
      ]
     },
     "execution_count": 441,
     "metadata": {},
     "output_type": "execute_result"
    }
   ],
   "source": [
    "correct_l = 0\n",
    "for i in low_df:\n",
    "    for j in low_predicted:\n",
    "        if i ==j:\n",
    "            correct_l = correct_l + 1 \n",
    "correct_l   "
   ]
  },
  {
   "cell_type": "code",
   "execution_count": 442,
   "id": "1c55bdef",
   "metadata": {},
   "outputs": [
    {
     "data": {
      "text/plain": [
       "0.77"
      ]
     },
     "execution_count": 442,
     "metadata": {},
     "output_type": "execute_result"
    }
   ],
   "source": [
    "# accuracy rate for classifying\n",
    "(correct_h +correct_l)/df.shape[0]"
   ]
  },
  {
   "cell_type": "code",
   "execution_count": 447,
   "id": "bfc47b85",
   "metadata": {},
   "outputs": [],
   "source": [
    "# dataset for submodel\n",
    "predicted_l = df.iloc[[14, 21, 29, 32, 34, 38, 39, 43, 44, 46, 49, 50, 51, 52, 53, 54, 57, 58, 61, 62, 63, 64, 65, 66, 67, 68, 69, 70, 71, 72, 73, 74, 75, 76, 77, 78, 79, 81, 82, 83, 84, 85, 86, 89, 90, 91, 92, 93, 95, 96, 97, 98, 99, 100, 102, 104, 105, 106, 108, 109, 110, 111, 113, 114, 115, 116, 117, 118, 119, 120, 121, 122, 123, 125, 126, 127, 129, 130, 131, 133, 134, 135, 136, 137, 138, 139, 141, 142, 143, 144, 145, 146, 147, 148, 149, 150, 151, 153, 154, 156, 157, 158, 159, 160, 162, 163, 164, 165, 166, 167, 169, 171, 172, 173, 174, 176, 178, 179, 181, 182, 183, 184, 185, 186, 189, 190, 192, 193, 195, 196, 198, 199, 205, 207, 209, 210, 212, 214, 218, 220, 227, 229, 231, 232, 235, 237, 256, 272, 281, 285],:]\n",
    "predicted_l.to_csv('predicted_l.csv')"
   ]
  },
  {
   "cell_type": "code",
   "execution_count": 444,
   "id": "6f0817dd",
   "metadata": {},
   "outputs": [],
   "source": [
    "# dataset for submodel\n",
    "predicted_h = df.iloc[[0, 1, 2, 3, 4, 5, 6, 7, 8, 9, 10, 11, 12, 13, 15, 16, 17, 18, 19, 20, 22, 23, 24, 25, 26, 27, 28, 30, 31, 33, 35, 36, 37, 40, 41, 42, 45, 47, 48, 55, 56, 59, 60, 80, 87, 88, 94, 101, 103, 107, 112, 124, 128, 132, 140, 152, 155, 161, 168, 170, 175, 177, 180, 187, 188, 191, 194, 197, 200, 201, 202, 203, 204, 206, 208, 211, 213, 215, 216, 217, 219, 221, 222, 223, 224, 225, 226, 228, 230, 233, 234, 236, 238, 239, 240, 241, 242, 243, 244, 245, 246, 247, 248, 249, 250, 251, 252, 253, 254, 255, 257, 258, 259, 260, 261, 262, 263, 264, 265, 266, 267, 268, 269, 270, 271, 273, 274, 275, 276, 277, 278, 279, 280, 282, 283, 284, 286, 287, 288, 289, 290, 291, 292, 293, 294, 295, 296, 297, 298, 299],:]\n",
    "predicted_h.to_csv('predicted_h.csv')"
   ]
  },
  {
   "cell_type": "code",
   "execution_count": 448,
   "id": "f6910372",
   "metadata": {},
   "outputs": [
    {
     "name": "stdout",
     "output_type": "stream",
     "text": [
      "[0, 1, 2, 3, 4, 5, 6, 7, 8, 9, 10, 11, 12, 13, 14, 15, 16, 17, 18, 19, 20, 21, 22, 23, 230, 231, 232, 233, 234, 235, 236, 237, 238, 239, 240, 241, 242, 243, 244, 245, 246, 247, 248, 249, 250, 251, 252, 253, 254, 255, 256, 257, 258, 259, 260, 261, 262, 263, 264, 265, 266, 267, 268, 269, 270, 271, 272, 273, 274, 275, 276, 277, 278, 279, 280, 281, 282, 283, 284, 285, 286, 287, 288, 289, 290, 291, 292, 293, 294, 295, 296, 297, 298, 299]\n",
      "-----\n",
      "[24, 25, 26, 27, 28, 29, 30, 31, 32, 33, 34, 35, 36, 37, 38, 39, 40, 41, 42, 43, 44, 45, 46, 47, 48, 49, 50]\n",
      "-----\n",
      "[51, 52, 53, 54, 55, 56, 57, 58, 59, 60, 61, 62, 63, 64, 65, 66, 67, 68, 69, 70, 71, 72, 73, 74, 75, 76, 77, 78, 79, 80, 81, 82, 83, 84, 85, 86, 87, 88, 89, 90, 91, 92, 93, 94, 95, 96, 97, 98, 99, 100, 101, 102, 103, 104, 105, 106, 107, 108, 109, 110, 111, 112, 113, 114, 115, 116, 117, 118, 119, 120, 121, 122, 123, 124, 125, 126, 127, 128, 129, 130, 131, 132, 133, 134, 135, 136, 137, 138, 139, 140, 141, 142, 143, 144, 145, 146, 147, 148, 149, 150, 151, 152, 153, 154, 155, 156, 157, 158, 159, 160, 161, 162, 163, 164, 165, 166, 167, 168, 169, 170, 171, 172, 173, 174, 175, 176, 177, 178, 179, 180, 181, 182, 183, 184, 185, 186, 187, 188, 189, 190, 191, 192, 193, 194, 195, 196, 197, 198, 199, 200]\n",
      "-----\n",
      "[201, 202, 203, 204, 205, 206, 207, 208, 209, 210, 211, 212, 213, 214, 215, 216, 217, 218, 219, 220, 221, 222, 223, 224, 225, 226, 227, 228, 229]\n",
      "prediction below-----------------\n",
      "[0, 1, 2, 3, 4, 5, 6, 7, 8, 9, 10, 11, 12, 15, 16, 18, 20, 22, 23, 24, 26, 35, 37, 56, 59, 88, 107, 124, 132, 152, 155, 170, 175, 177, 180, 187, 188, 191, 194, 197, 200, 201, 202, 203, 206, 208, 211, 213, 215, 216, 217, 219, 221, 222, 223, 224, 225, 226, 228, 230, 233, 234, 236, 238, 239, 240, 241, 242, 243, 244, 245, 246, 247, 248, 249, 250, 251, 252, 253, 254, 255, 257, 258, 259, 260, 261, 262, 263, 264, 265, 266, 267, 268, 269, 270, 271, 273, 274, 275, 276, 277, 278, 279, 280, 282, 283, 284, 286, 287, 288, 289, 290, 291, 292, 293, 294, 295, 296, 297, 298, 299]\n",
      "-----\n",
      "[13, 17, 19, 25, 27, 28, 30, 31, 33, 36, 40, 41, 42, 45, 47, 48, 55, 60, 80, 87, 94, 101, 103, 112, 128, 140, 161, 168, 204]\n",
      "-----\n",
      "[14, 21, 29, 32, 34, 38, 39, 43, 44, 46, 49, 50, 51, 52, 53, 54, 57, 58, 61, 62, 63, 64, 65, 66, 67, 68, 69, 71, 72, 73, 74, 75, 76, 77, 78, 79, 81, 82, 83, 84, 85, 86, 89, 90, 91, 92, 93, 95, 96, 97, 98, 100, 102, 104, 105, 106, 108, 109, 110, 111, 114, 115, 116, 117, 118, 119, 120, 121, 122, 123, 125, 126, 127, 129, 130, 131, 133, 134, 135, 136, 137, 138, 139, 141, 142, 143, 145, 146, 147, 148, 149, 150, 151, 153, 154, 156, 157, 158, 159, 162, 164, 167, 169, 171, 172, 174, 176, 178, 179, 181, 182, 183, 184, 186, 189, 190, 192, 193, 196, 199, 207, 212, 214, 218, 227, 229, 231, 232, 235, 256, 272]\n",
      "-----\n",
      "[70, 99, 113, 144, 160, 163, 165, 166, 173, 185, 195, 198, 205, 209, 210, 220, 237, 281, 285]\n"
     ]
    }
   ],
   "source": [
    "# use loocv to predict and get accuracy through 3 cutoff in one model\n",
    "X = df[['act_avg', 'sat_avg','percent_receiving_aid',\n",
    "       'cost_after_aid', 'hs_gpa_avg','businessRepScore', 'tuition',\n",
    "       'engineeringRepScore','branches', 'admission_rate', \n",
    "       'ug_enrollment', 'percent_white', 'percent_black', 'percent_hispanic',\n",
    "       'percent_asian', 'percent_aian', 'percent_nhpi', 'percent_twoormore',\n",
    "       'percent_nra', 'percent_unknown', 'percent_parttime', 'avg_cost',\n",
    "       'instante_tuition', 'outstate_tuition', 'tuition_revenue_per',\n",
    "       'instructional_expenditure_per', 'avg_faculty_salary',\n",
    "       'ft_faculty_rate', 'avg_net_price', 'number_titleIV', 'sat_avg']]\n",
    "y = df[['rankingSortRank']]\n",
    "loocv = LeaveOneOut()\n",
    "loocv.get_n_splits(X)\n",
    "\n",
    "model = LogisticRegression()\n",
    "\n",
    "true = []\n",
    "predicted = []\n",
    "\n",
    "high_df = []\n",
    "medium_high_df = []\n",
    "medium_low_df = []\n",
    "low_df = []\n",
    "high_predicted = []\n",
    "medium_high_predicted = []\n",
    "medium_low_predicted = []\n",
    "low_predicted = []\n",
    "\n",
    "\n",
    "for train_index, test_index in loocv.split(X):\n",
    "\n",
    "    X_train=X.loc[train_index]\n",
    "    X_test=X.loc[test_index]\n",
    "    y_train=y.loc[train_index]\n",
    "    y_test=y.loc[test_index]\n",
    "    \n",
    "    model.fit(X_train, y_train)\n",
    "\n",
    "    y_pred = model.predict(X_test)\n",
    "\n",
    "    true.append(y_test['rankingSortRank'].values[0])\n",
    "    predicted.append(y_pred[0])\n",
    "    \n",
    "    #classifying into high and low\n",
    "    \n",
    "    if y_test['rankingSortRank'].values[0] < 50:\n",
    "        if y_test['rankingSortRank'].values[0] < 25:\n",
    "            high_df.append(test_index[0])\n",
    "        else:\n",
    "            medium_high_df.append(test_index[0])\n",
    "    else:\n",
    "        if y_test['rankingSortRank'].values[0] > 200:\n",
    "            low_df.append(test_index[0])\n",
    "        else:\n",
    "            medium_low_df.append(test_index[0])\n",
    "    if y_pred[0] < 50:\n",
    "        if y_pred[0] < 25:\n",
    "            high_predicted.append(test_index[0])\n",
    "        else:\n",
    "            medium_high_predicted.append(test_index[0])\n",
    "    else:\n",
    "        if y_pred[0] > 200:\n",
    "            low_predicted.append(test_index[0])\n",
    "        else:\n",
    "            medium_low_predicted.append(test_index[0])\n",
    "\n",
    "print(high_df)\n",
    "print(\"-----\")\n",
    "print(medium_high_df)\n",
    "print(\"-----\")\n",
    "print(medium_low_df)\n",
    "print(\"-----\")\n",
    "print(low_df)\n",
    "print(\"prediction below-----------------\")\n",
    "print(high_predicted)\n",
    "print(\"-----\")\n",
    "print(medium_high_predicted)\n",
    "print(\"-----\")\n",
    "print(medium_low_predicted)\n",
    "print(\"-----\")\n",
    "print(low_predicted)"
   ]
  },
  {
   "cell_type": "code",
   "execution_count": 451,
   "id": "825c6be1",
   "metadata": {},
   "outputs": [
    {
     "data": {
      "text/plain": [
       "81"
      ]
     },
     "execution_count": 451,
     "metadata": {},
     "output_type": "execute_result"
    }
   ],
   "source": [
    "correct_h = 0\n",
    "for i in high_df:\n",
    "    for j in high_predicted:\n",
    "        if i ==j:\n",
    "            correct_h = correct_h + 1 \n",
    "correct_h  "
   ]
  },
  {
   "cell_type": "code",
   "execution_count": 452,
   "id": "57ba6510",
   "metadata": {},
   "outputs": [
    {
     "data": {
      "text/plain": [
       "13"
      ]
     },
     "execution_count": 452,
     "metadata": {},
     "output_type": "execute_result"
    }
   ],
   "source": [
    "correct_medium_h = 0\n",
    "for i in medium_high_df:\n",
    "    for j in medium_high_predicted:\n",
    "        if i ==j:\n",
    "            correct_medium_h = correct_medium_h + 1 \n",
    "correct_medium_h "
   ]
  },
  {
   "cell_type": "code",
   "execution_count": 453,
   "id": "50c76037",
   "metadata": {},
   "outputs": [
    {
     "data": {
      "text/plain": [
       "108"
      ]
     },
     "execution_count": 453,
     "metadata": {},
     "output_type": "execute_result"
    }
   ],
   "source": [
    "correct_medium_l = 0\n",
    "for i in medium_low_df:\n",
    "    for j in medium_low_predicted:\n",
    "        if i ==j:\n",
    "            correct_medium_l = correct_medium_l + 1 \n",
    "correct_medium_l "
   ]
  },
  {
   "cell_type": "code",
   "execution_count": 454,
   "id": "9ba5651f",
   "metadata": {},
   "outputs": [
    {
     "data": {
      "text/plain": [
       "4"
      ]
     },
     "execution_count": 454,
     "metadata": {},
     "output_type": "execute_result"
    }
   ],
   "source": [
    "correct_l = 0\n",
    "for i in low_df:\n",
    "    for j in low_predicted:\n",
    "        if i ==j:\n",
    "            correct_l = correct_l + 1 \n",
    "correct_l   "
   ]
  },
  {
   "cell_type": "code",
   "execution_count": 455,
   "id": "8538d405",
   "metadata": {},
   "outputs": [
    {
     "data": {
      "text/plain": [
       "0.6866666666666666"
      ]
     },
     "execution_count": 455,
     "metadata": {},
     "output_type": "execute_result"
    }
   ],
   "source": [
    "# accuracy rate for classifying through 3 cutoff in 1 model\n",
    "(correct_h +correct_medium_h+correct_medium_l +correct_l)/df.shape[0]"
   ]
  },
  {
   "cell_type": "code",
   "execution_count": null,
   "id": "2541b786",
   "metadata": {},
   "outputs": [],
   "source": [
    "# cut off-25,50,200 :0.68\n",
    "# cut off-25,50,150 :0.6\n",
    "# cut off-25,50,175 :0.63\n",
    "# cut off-30,50,175 :0.63\n",
    "# cut off-30,50,200 :0.63\n",
    "# cut off-30,60,200 :0.63\n",
    "# cut off-30,70,200 :0.63"
   ]
  },
  {
   "cell_type": "code",
   "execution_count": 459,
   "id": "868592fb",
   "metadata": {
    "scrolled": false
   },
   "outputs": [
    {
     "name": "stdout",
     "output_type": "stream",
     "text": [
      "[0, 1, 2, 3, 4, 5, 6, 7, 8, 9, 10, 11, 12, 13, 14, 15, 16, 17, 18, 19, 20, 21, 22, 23, 24, 25, 26, 27, 28, 29, 30, 31, 32, 33, 34, 35, 36, 37, 38, 39, 40, 41, 42, 43, 44, 45, 46, 47, 48, 49, 50]\n",
      "-----\n",
      "[51, 52, 53, 54, 55, 56, 57, 58, 59, 60, 61, 62, 63, 64, 65, 66, 67, 68, 69, 70, 71, 72, 73, 74, 75, 76, 77, 78, 79, 80, 81, 82, 83, 84, 85, 86, 87, 88, 89, 90, 91, 92, 93, 94, 95, 96, 97, 98, 99, 100, 101, 102, 103, 104, 105, 106, 107, 108, 109, 110, 111, 112, 113, 114, 115, 116, 117, 118, 119, 120, 121, 122, 123, 124, 125, 126, 127, 128, 129, 130, 131, 132, 133, 134, 135, 136, 137, 138, 139, 140, 141, 142, 143, 144, 145, 146, 147, 148, 149, 150, 151, 152, 153, 154, 155, 156, 157, 158, 159, 160, 161, 162, 163, 164, 165, 166, 167, 168, 169, 170, 171, 172, 173, 174, 175, 176, 177, 178, 179, 180, 181, 182, 183, 184, 185, 186, 187, 188, 189, 190, 191, 192, 193, 194, 195, 196, 197, 198, 199, 200, 201, 202, 203, 204, 205, 206, 207, 208, 209, 210, 211, 212, 213, 214, 215, 216, 217, 218, 219, 220, 221, 222, 223, 224, 225, 226, 227, 228, 229]\n",
      "prediction below-----------------\n",
      "[0, 1, 2, 3, 4, 5, 6, 7, 8, 9, 10, 11, 12, 13, 15, 16, 17, 18, 19, 20, 22, 23, 24, 25, 26, 27, 28, 30, 31, 33, 35, 36, 37, 40, 41, 42, 45, 47, 48, 55, 56, 59, 60, 80, 85, 87, 94, 101, 103, 112, 128, 140, 147, 161, 168]\n",
      "-----\n",
      "[14, 21, 29, 32, 34, 38, 39, 43, 44, 46, 49, 50, 51, 52, 53, 54, 57, 58, 61, 62, 63, 64, 65, 66, 67, 68, 69, 70, 71, 72, 73, 74, 75, 76, 77, 78, 79, 81, 82, 83, 84, 86, 88, 89, 90, 91, 92, 93, 95, 96, 97, 98, 99, 100, 102, 104, 105, 106, 107, 108, 109, 110, 111, 113, 114, 115, 116, 117, 118, 119, 120, 121, 122, 123, 124, 125, 126, 127, 129, 130, 131, 132, 133, 134, 135, 136, 137, 138, 139, 141, 142, 143, 144, 145, 146, 148, 149, 150, 151, 152, 153, 154, 155, 156, 157, 158, 159, 160, 162, 163, 164, 165, 166, 167, 169, 170, 171, 172, 173, 174, 175, 176, 177, 178, 179, 180, 181, 182, 183, 184, 185, 186, 187, 188, 189, 190, 191, 192, 193, 194, 195, 196, 197, 198, 199, 200, 201, 202, 203, 204, 205, 206, 207, 208, 209, 210, 211, 212, 213, 214, 215, 216, 217, 218, 219, 220, 221, 222, 223, 224, 225, 226, 227, 228, 229]\n"
     ]
    }
   ],
   "source": [
    "# use loocv to predict and get accuracy\n",
    "X = df2[['act_avg', 'sat_avg','percent_receiving_aid',\n",
    "       'cost_after_aid', 'hs_gpa_avg','businessRepScore', 'tuition',\n",
    "       'engineeringRepScore','branches', 'admission_rate', \n",
    "       'ug_enrollment', 'percent_white', 'percent_black', 'percent_hispanic',\n",
    "       'percent_asian', 'percent_aian', 'percent_nhpi', 'percent_twoormore',\n",
    "       'percent_nra', 'percent_unknown', 'percent_parttime', 'avg_cost',\n",
    "       'instante_tuition', 'outstate_tuition', 'tuition_revenue_per',\n",
    "       'instructional_expenditure_per', 'avg_faculty_salary',\n",
    "       'ft_faculty_rate', 'avg_net_price', 'number_titleIV', 'sat_avg']]\n",
    "y = df2[['rankingSortRank']]\n",
    "loocv = LeaveOneOut()\n",
    "loocv.get_n_splits(X)\n",
    "\n",
    "model = LogisticRegression()\n",
    "\n",
    "true = []\n",
    "predicted = []\n",
    "\n",
    "high_df = []\n",
    "low_df = []\n",
    "high_predicted = []\n",
    "low_predicted = []\n",
    "\n",
    "for train_index, test_index in loocv.split(X):\n",
    "\n",
    "    X_train=X.loc[train_index]\n",
    "    X_test=X.loc[test_index]\n",
    "    y_train=y.loc[train_index]\n",
    "    y_test=y.loc[test_index]\n",
    "    \n",
    "    model.fit(X_train, y_train)\n",
    "\n",
    "    y_pred = model.predict(X_test)\n",
    "\n",
    "    true.append(y_test['rankingSortRank'].values[0])\n",
    "    predicted.append(y_pred[0])\n",
    "    \n",
    "    #classifying into high and low\n",
    "    \n",
    "    if y_test['rankingSortRank'].values[0] < 50:\n",
    "        high_df.append(test_index[0])\n",
    "    else:\n",
    "        low_df.append(test_index[0])\n",
    "    if y_pred[0] < 50:\n",
    "        high_predicted.append(test_index[0])\n",
    "    else:\n",
    "        low_predicted.append(test_index[0])\n",
    "\n",
    "print(high_df)\n",
    "print(\"-----\")\n",
    "print(low_df)\n",
    "print(\"prediction below-----------------\")\n",
    "print(high_predicted)\n",
    "print(\"-----\")\n",
    "print(low_predicted)"
   ]
  },
  {
   "cell_type": "code",
   "execution_count": 463,
   "id": "e689304c",
   "metadata": {},
   "outputs": [],
   "source": [
    "# dataset for submodel-drop -1 ranking \n",
    "predicted_h = df.iloc[[0, 1, 2, 3, 4, 5, 6, 7, 8, 9, 10, 11, 12, 13, 15, 16, 17, 18, 19, 20, 22, 23, 24, 25, 26, 27, 28, 30, 31, 33, 35, 36, 37, 40, 41, 42, 45, 47, 48, 55, 56, 59, 60, 80, 85, 87, 94, 101, 103, 112, 128, 140, 147, 161, 168],:]\n",
    "predicted_h.to_csv('predicted_h_230rows.csv')\n",
    "predicted_l = df.iloc[[14, 21, 29, 32, 34, 38, 39, 43, 44, 46, 49, 50, 51, 52, 53, 54, 57, 58, 61, 62, 63, 64, 65, 66, 67, 68, 69, 70, 71, 72, 73, 74, 75, 76, 77, 78, 79, 81, 82, 83, 84, 86, 88, 89, 90, 91, 92, 93, 95, 96, 97, 98, 99, 100, 102, 104, 105, 106, 107, 108, 109, 110, 111, 113, 114, 115, 116, 117, 118, 119, 120, 121, 122, 123, 124, 125, 126, 127, 129, 130, 131, 132, 133, 134, 135, 136, 137, 138, 139, 141, 142, 143, 144, 145, 146, 148, 149, 150, 151, 152, 153, 154, 155, 156, 157, 158, 159, 160, 162, 163, 164, 165, 166, 167, 169, 170, 171, 172, 173, 174, 175, 176, 177, 178, 179, 180, 181, 182, 183, 184, 185, 186, 187, 188, 189, 190, 191, 192, 193, 194, 195, 196, 197, 198, 199, 200, 201, 202, 203, 204, 205, 206, 207, 208, 209, 210, 211, 212, 213, 214, 215, 216, 217, 218, 219, 220, 221, 222, 223, 224, 225, 226, 227, 228, 229],:]\n",
    "predicted_l.to_csv('predicted_l_230rows.csv')"
   ]
  },
  {
   "cell_type": "code",
   "execution_count": 464,
   "id": "ac518093",
   "metadata": {
    "scrolled": true
   },
   "outputs": [
    {
     "data": {
      "text/plain": [
       "39"
      ]
     },
     "execution_count": 464,
     "metadata": {},
     "output_type": "execute_result"
    }
   ],
   "source": [
    "correct_h = 0\n",
    "for i in high_df:\n",
    "    for j in high_predicted:\n",
    "        if i ==j:\n",
    "            correct_h = correct_h + 1 \n",
    "correct_h    "
   ]
  },
  {
   "cell_type": "code",
   "execution_count": 465,
   "id": "ef171cae",
   "metadata": {},
   "outputs": [
    {
     "data": {
      "text/plain": [
       "163"
      ]
     },
     "execution_count": 465,
     "metadata": {},
     "output_type": "execute_result"
    }
   ],
   "source": [
    "correct_l = 0\n",
    "for i in low_df:\n",
    "    for j in low_predicted:\n",
    "        if i ==j:\n",
    "            correct_l = correct_l + 1 \n",
    "correct_l "
   ]
  },
  {
   "cell_type": "code",
   "execution_count": 466,
   "id": "1d106b6a",
   "metadata": {},
   "outputs": [
    {
     "data": {
      "text/plain": [
       "0.8782608695652174"
      ]
     },
     "execution_count": 466,
     "metadata": {},
     "output_type": "execute_result"
    }
   ],
   "source": [
    "# accuracy rate for classifying through 3 cutoff in 1 model\n",
    "(correct_h +correct_l)/df2.shape[0]"
   ]
  },
  {
   "cell_type": "code",
   "execution_count": 467,
   "id": "b311d1bd",
   "metadata": {},
   "outputs": [
    {
     "name": "stdout",
     "output_type": "stream",
     "text": [
      "[0, 1, 2, 3, 4, 5, 6, 7, 8, 9, 10, 11, 12, 13, 14, 15, 16, 17, 18, 19, 20, 21, 22, 23]\n",
      "-----\n",
      "[24, 25, 26, 27, 28, 29, 30, 31, 32, 33, 34, 35, 36, 37, 38, 39, 40, 41, 42, 43, 44, 45, 46, 47, 48, 49, 50]\n",
      "-----\n",
      "[51, 52, 53, 54, 55, 56, 57, 58, 59, 60, 61, 62, 63, 64, 65, 66, 67, 68, 69, 70, 71, 72, 73, 74, 75, 76, 77, 78, 79, 80, 81, 82, 83, 84, 85, 86, 87, 88, 89, 90, 91, 92, 93, 94, 95, 96, 97, 98, 99, 100, 101, 102, 103, 104, 105, 106, 107, 108, 109, 110, 111, 112, 113, 114, 115, 116, 117, 118, 119, 120, 121, 122, 123, 124, 125, 126, 127, 128, 129, 130, 131, 132, 133, 134, 135, 136, 137, 138, 139, 140, 141, 142, 143, 144, 145, 146, 147, 148, 149, 150, 151, 152, 153, 154, 155, 156, 157, 158, 159, 160, 161, 162, 163, 164, 165, 166, 167, 168, 169, 170, 171, 172, 173, 174, 175, 176, 177, 178, 179, 180, 181, 182, 183, 184, 185, 186, 187, 188, 189, 190, 191, 192, 193, 194, 195, 196, 197, 198, 199, 200]\n",
      "-----\n",
      "[201, 202, 203, 204, 205, 206, 207, 208, 209, 210, 211, 212, 213, 214, 215, 216, 217, 218, 219, 220, 221, 222, 223, 224, 225, 226, 227, 228, 229]\n",
      "prediction below-----------------\n",
      "[0, 1, 2, 3, 4, 5, 6, 7, 8, 9, 10, 11, 12, 13, 15, 16, 18, 19, 20, 22, 23, 24, 26, 35, 37, 59, 147]\n",
      "-----\n",
      "[17, 25, 27, 28, 30, 31, 33, 36, 40, 41, 42, 45, 47, 48, 55, 56, 60, 80, 85, 87, 94, 101, 103, 112, 128, 140, 161, 168]\n",
      "-----\n",
      "[14, 21, 29, 32, 34, 38, 39, 43, 44, 46, 49, 50, 51, 52, 53, 54, 57, 58, 61, 62, 63, 64, 66, 67, 68, 69, 71, 72, 73, 74, 76, 77, 78, 79, 82, 83, 86, 89, 90, 91, 92, 93, 96, 97, 100, 102, 104, 106, 108, 109, 110, 111, 113, 114, 115, 116, 117, 119, 122, 123, 124, 126, 127, 129, 130, 131, 133, 138, 139, 142, 143, 148, 149, 150, 153, 155, 156, 157, 162, 167, 169, 172, 174, 180, 182, 183, 186, 187, 192, 193, 196, 199, 204, 211, 218]\n",
      "-----\n",
      "[65, 70, 75, 81, 84, 88, 95, 98, 99, 105, 107, 118, 120, 121, 125, 132, 134, 135, 136, 137, 141, 144, 145, 146, 151, 152, 154, 158, 159, 160, 163, 164, 165, 166, 170, 171, 173, 175, 176, 177, 178, 179, 181, 184, 185, 188, 189, 190, 191, 194, 195, 197, 198, 200, 201, 202, 203, 205, 206, 207, 208, 209, 210, 212, 213, 214, 215, 216, 217, 219, 220, 221, 222, 223, 224, 225, 226, 227, 228, 229]\n"
     ]
    }
   ],
   "source": [
    "# use loocv to predict and get accuracy through 3 cutoff in one model\n",
    "X = df2[['act_avg', 'sat_avg','percent_receiving_aid',\n",
    "       'cost_after_aid', 'hs_gpa_avg','businessRepScore', 'tuition',\n",
    "       'engineeringRepScore','branches', 'admission_rate', \n",
    "       'ug_enrollment', 'percent_white', 'percent_black', 'percent_hispanic',\n",
    "       'percent_asian', 'percent_aian', 'percent_nhpi', 'percent_twoormore',\n",
    "       'percent_nra', 'percent_unknown', 'percent_parttime', 'avg_cost',\n",
    "       'instante_tuition', 'outstate_tuition', 'tuition_revenue_per',\n",
    "       'instructional_expenditure_per', 'avg_faculty_salary',\n",
    "       'ft_faculty_rate', 'avg_net_price', 'number_titleIV', 'sat_avg']]\n",
    "y = df2[['rankingSortRank']]\n",
    "loocv = LeaveOneOut()\n",
    "loocv.get_n_splits(X)\n",
    "\n",
    "model = LogisticRegression()\n",
    "\n",
    "true = []\n",
    "predicted = []\n",
    "\n",
    "high_df = []\n",
    "medium_high_df = []\n",
    "medium_low_df = []\n",
    "low_df = []\n",
    "high_predicted = []\n",
    "medium_high_predicted = []\n",
    "medium_low_predicted = []\n",
    "low_predicted = []\n",
    "\n",
    "\n",
    "for train_index, test_index in loocv.split(X):\n",
    "\n",
    "    X_train=X.loc[train_index]\n",
    "    X_test=X.loc[test_index]\n",
    "    y_train=y.loc[train_index]\n",
    "    y_test=y.loc[test_index]\n",
    "    \n",
    "    model.fit(X_train, y_train)\n",
    "\n",
    "    y_pred = model.predict(X_test)\n",
    "\n",
    "    true.append(y_test['rankingSortRank'].values[0])\n",
    "    predicted.append(y_pred[0])\n",
    "    \n",
    "    #classifying into high and low\n",
    "    \n",
    "    if y_test['rankingSortRank'].values[0] < 50:\n",
    "        if y_test['rankingSortRank'].values[0] < 25:\n",
    "            high_df.append(test_index[0])\n",
    "        else:\n",
    "            medium_high_df.append(test_index[0])\n",
    "    else:\n",
    "        if y_test['rankingSortRank'].values[0] > 200:\n",
    "            low_df.append(test_index[0])\n",
    "        else:\n",
    "            medium_low_df.append(test_index[0])\n",
    "    if y_pred[0] < 50:\n",
    "        if y_pred[0] < 25:\n",
    "            high_predicted.append(test_index[0])\n",
    "        else:\n",
    "            medium_high_predicted.append(test_index[0])\n",
    "    else:\n",
    "        if y_pred[0] > 150:\n",
    "            low_predicted.append(test_index[0])\n",
    "        else:\n",
    "            medium_low_predicted.append(test_index[0])\n",
    "\n",
    "print(high_df)\n",
    "print(\"-----\")\n",
    "print(medium_high_df)\n",
    "print(\"-----\")\n",
    "print(medium_low_df)\n",
    "print(\"-----\")\n",
    "print(low_df)\n",
    "print(\"prediction below-----------------\")\n",
    "print(high_predicted)\n",
    "print(\"-----\")\n",
    "print(medium_high_predicted)\n",
    "print(\"-----\")\n",
    "print(medium_low_predicted)\n",
    "print(\"-----\")\n",
    "print(low_predicted)"
   ]
  },
  {
   "cell_type": "code",
   "execution_count": 468,
   "id": "1d7f3e85",
   "metadata": {},
   "outputs": [
    {
     "data": {
      "text/plain": [
       "21"
      ]
     },
     "execution_count": 468,
     "metadata": {},
     "output_type": "execute_result"
    }
   ],
   "source": [
    "correct_h = 0\n",
    "for i in high_df:\n",
    "    for j in high_predicted:\n",
    "        if i ==j:\n",
    "            correct_h = correct_h + 1 \n",
    "correct_h  "
   ]
  },
  {
   "cell_type": "code",
   "execution_count": 469,
   "id": "5cc4f3c9",
   "metadata": {},
   "outputs": [
    {
     "data": {
      "text/plain": [
       "13"
      ]
     },
     "execution_count": 469,
     "metadata": {},
     "output_type": "execute_result"
    }
   ],
   "source": [
    "correct_medium_h = 0\n",
    "for i in medium_high_df:\n",
    "    for j in medium_high_predicted:\n",
    "        if i ==j:\n",
    "            correct_medium_h = correct_medium_h + 1 \n",
    "correct_medium_h "
   ]
  },
  {
   "cell_type": "code",
   "execution_count": 470,
   "id": "7d42ed11",
   "metadata": {},
   "outputs": [
    {
     "data": {
      "text/plain": [
       "80"
      ]
     },
     "execution_count": 470,
     "metadata": {},
     "output_type": "execute_result"
    }
   ],
   "source": [
    "correct_medium_l = 0\n",
    "for i in medium_low_df:\n",
    "    for j in medium_low_predicted:\n",
    "        if i ==j:\n",
    "            correct_medium_l = correct_medium_l + 1 \n",
    "correct_medium_l "
   ]
  },
  {
   "cell_type": "code",
   "execution_count": 471,
   "id": "4112224a",
   "metadata": {},
   "outputs": [
    {
     "data": {
      "text/plain": [
       "26"
      ]
     },
     "execution_count": 471,
     "metadata": {},
     "output_type": "execute_result"
    }
   ],
   "source": [
    "correct_l = 0\n",
    "for i in low_df:\n",
    "    for j in low_predicted:\n",
    "        if i ==j:\n",
    "            correct_l = correct_l + 1 \n",
    "correct_l   "
   ]
  },
  {
   "cell_type": "code",
   "execution_count": 414,
   "id": "a4e8d70d",
   "metadata": {},
   "outputs": [
    {
     "data": {
      "text/plain": [
       "0.5633333333333334"
      ]
     },
     "execution_count": 414,
     "metadata": {},
     "output_type": "execute_result"
    }
   ],
   "source": [
    "# accuracy rate for classifying through 3 cutoff in 1 model - drop -1 ranking\n",
    "(correct_h +correct_medium_h+correct_medium_l +correct_l)/df.shape[0]"
   ]
  },
  {
   "cell_type": "code",
   "execution_count": null,
   "id": "94c27b49",
   "metadata": {},
   "outputs": [],
   "source": []
  }
 ],
 "metadata": {
  "kernelspec": {
   "display_name": "Python 3 (ipykernel)",
   "language": "python",
   "name": "python3"
  },
  "language_info": {
   "codemirror_mode": {
    "name": "ipython",
    "version": 3
   },
   "file_extension": ".py",
   "mimetype": "text/x-python",
   "name": "python",
   "nbconvert_exporter": "python",
   "pygments_lexer": "ipython3",
   "version": "3.9.7"
  }
 },
 "nbformat": 4,
 "nbformat_minor": 5
}
