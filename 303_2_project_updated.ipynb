{
 "cells": [
  {
   "cell_type": "code",
   "execution_count": 72,
   "id": "ec165abf",
   "metadata": {},
   "outputs": [],
   "source": [
    "import pandas as pd\n",
    "import numpy as np\n",
    "import statsmodels.formula.api as sm\n",
    "import seaborn as sns\n",
    "import matplotlib.pyplot as plt\n",
    "from sklearn.model_selection import train_test_split\n",
    "from sklearn.model_selection import LeaveOneOut\n",
    "from sklearn.model_selection import cross_val_score\n",
    "from sklearn.linear_model import LinearRegression\n",
    "from sklearn.linear_model import LogisticRegression\n",
    "from sklearn.metrics import accuracy_score\n",
    "import warnings\n",
    "warnings.filterwarnings('ignore')"
   ]
  },
  {
   "cell_type": "code",
   "execution_count": 408,
   "id": "c66e6826",
   "metadata": {},
   "outputs": [
    {
     "data": {
      "text/html": [
       "<div>\n",
       "<style scoped>\n",
       "    .dataframe tbody tr th:only-of-type {\n",
       "        vertical-align: middle;\n",
       "    }\n",
       "\n",
       "    .dataframe tbody tr th {\n",
       "        vertical-align: top;\n",
       "    }\n",
       "\n",
       "    .dataframe thead th {\n",
       "        text-align: right;\n",
       "    }\n",
       "</style>\n",
       "<table border=\"1\" class=\"dataframe\">\n",
       "  <thead>\n",
       "    <tr style=\"text-align: right;\">\n",
       "      <th></th>\n",
       "      <th>act_avg</th>\n",
       "      <th>city</th>\n",
       "      <th>sortName</th>\n",
       "      <th>zip</th>\n",
       "      <th>rankingDisplayScore</th>\n",
       "      <th>percent_receiving_aid</th>\n",
       "      <th>cost_after_aid</th>\n",
       "      <th>state</th>\n",
       "      <th>rankingSortRank</th>\n",
       "      <th>hs_gpa_avg</th>\n",
       "      <th>...</th>\n",
       "      <th>avg_cost</th>\n",
       "      <th>instante_tuition</th>\n",
       "      <th>outstate_tuition</th>\n",
       "      <th>tuition_revenue_per</th>\n",
       "      <th>instructional_expenditure_per</th>\n",
       "      <th>avg_faculty_salary</th>\n",
       "      <th>ft_faculty_rate</th>\n",
       "      <th>avg_net_price</th>\n",
       "      <th>number_titleIV</th>\n",
       "      <th>sat_avg</th>\n",
       "    </tr>\n",
       "  </thead>\n",
       "  <tbody>\n",
       "    <tr>\n",
       "      <th>0</th>\n",
       "      <td>32.0</td>\n",
       "      <td>Princeton</td>\n",
       "      <td>princetonuniversity</td>\n",
       "      <td>8544</td>\n",
       "      <td>100.000000</td>\n",
       "      <td>60.00000</td>\n",
       "      <td>16793.000000</td>\n",
       "      <td>NJ</td>\n",
       "      <td>1</td>\n",
       "      <td>3.900000</td>\n",
       "      <td>...</td>\n",
       "      <td>64390.0</td>\n",
       "      <td>47140.0</td>\n",
       "      <td>47140.0</td>\n",
       "      <td>13216.0</td>\n",
       "      <td>53658.0</td>\n",
       "      <td>17519.0</td>\n",
       "      <td>0.8490</td>\n",
       "      <td>10027.0</td>\n",
       "      <td>346.0</td>\n",
       "      <td>1500.0</td>\n",
       "    </tr>\n",
       "    <tr>\n",
       "      <th>1</th>\n",
       "      <td>32.0</td>\n",
       "      <td>Cambridge</td>\n",
       "      <td>harvarduniversity</td>\n",
       "      <td>2138</td>\n",
       "      <td>98.000000</td>\n",
       "      <td>55.00000</td>\n",
       "      <td>16338.000000</td>\n",
       "      <td>MA</td>\n",
       "      <td>2</td>\n",
       "      <td>4.000000</td>\n",
       "      <td>...</td>\n",
       "      <td>66900.0</td>\n",
       "      <td>48949.0</td>\n",
       "      <td>48949.0</td>\n",
       "      <td>31930.0</td>\n",
       "      <td>43823.0</td>\n",
       "      <td>19741.0</td>\n",
       "      <td>0.8589</td>\n",
       "      <td>14327.0</td>\n",
       "      <td>350.0</td>\n",
       "      <td>1523.0</td>\n",
       "    </tr>\n",
       "    <tr>\n",
       "      <th>2</th>\n",
       "      <td>32.0</td>\n",
       "      <td>Chicago</td>\n",
       "      <td>universityofchicago</td>\n",
       "      <td>60637</td>\n",
       "      <td>96.000000</td>\n",
       "      <td>42.00000</td>\n",
       "      <td>27767.000000</td>\n",
       "      <td>IL</td>\n",
       "      <td>3</td>\n",
       "      <td>4.000000</td>\n",
       "      <td>...</td>\n",
       "      <td>72717.0</td>\n",
       "      <td>56034.0</td>\n",
       "      <td>56034.0</td>\n",
       "      <td>28508.0</td>\n",
       "      <td>89151.0</td>\n",
       "      <td>18115.0</td>\n",
       "      <td>0.8239</td>\n",
       "      <td>25455.0</td>\n",
       "      <td>494.0</td>\n",
       "      <td>1524.0</td>\n",
       "    </tr>\n",
       "    <tr>\n",
       "      <th>3</th>\n",
       "      <td>32.0</td>\n",
       "      <td>New Haven</td>\n",
       "      <td>yaleuniversity</td>\n",
       "      <td>6520</td>\n",
       "      <td>96.000000</td>\n",
       "      <td>50.00000</td>\n",
       "      <td>18385.000000</td>\n",
       "      <td>CT</td>\n",
       "      <td>3</td>\n",
       "      <td>3.546502</td>\n",
       "      <td>...</td>\n",
       "      <td>68950.0</td>\n",
       "      <td>51400.0</td>\n",
       "      <td>51400.0</td>\n",
       "      <td>17934.0</td>\n",
       "      <td>120956.0</td>\n",
       "      <td>17517.0</td>\n",
       "      <td>0.7459</td>\n",
       "      <td>18627.0</td>\n",
       "      <td>387.0</td>\n",
       "      <td>1520.0</td>\n",
       "    </tr>\n",
       "    <tr>\n",
       "      <th>4</th>\n",
       "      <td>32.0</td>\n",
       "      <td>New York</td>\n",
       "      <td>columbiauniversity</td>\n",
       "      <td>10027</td>\n",
       "      <td>95.000000</td>\n",
       "      <td>48.00000</td>\n",
       "      <td>21041.000000</td>\n",
       "      <td>NY</td>\n",
       "      <td>5</td>\n",
       "      <td>3.546502</td>\n",
       "      <td>...</td>\n",
       "      <td>71972.0</td>\n",
       "      <td>57208.0</td>\n",
       "      <td>57208.0</td>\n",
       "      <td>37294.0</td>\n",
       "      <td>89742.0</td>\n",
       "      <td>18713.0</td>\n",
       "      <td>0.4688</td>\n",
       "      <td>24231.0</td>\n",
       "      <td>526.0</td>\n",
       "      <td>1522.0</td>\n",
       "    </tr>\n",
       "    <tr>\n",
       "      <th>...</th>\n",
       "      <td>...</td>\n",
       "      <td>...</td>\n",
       "      <td>...</td>\n",
       "      <td>...</td>\n",
       "      <td>...</td>\n",
       "      <td>...</td>\n",
       "      <td>...</td>\n",
       "      <td>...</td>\n",
       "      <td>...</td>\n",
       "      <td>...</td>\n",
       "      <td>...</td>\n",
       "      <td>...</td>\n",
       "      <td>...</td>\n",
       "      <td>...</td>\n",
       "      <td>...</td>\n",
       "      <td>...</td>\n",
       "      <td>...</td>\n",
       "      <td>...</td>\n",
       "      <td>...</td>\n",
       "      <td>...</td>\n",
       "      <td>...</td>\n",
       "    </tr>\n",
       "    <tr>\n",
       "      <th>295</th>\n",
       "      <td>18.0</td>\n",
       "      <td>Carrollton</td>\n",
       "      <td>universityofwestgeorgia</td>\n",
       "      <td>30118</td>\n",
       "      <td>50.465217</td>\n",
       "      <td>35.27972</td>\n",
       "      <td>33920.867133</td>\n",
       "      <td>GA</td>\n",
       "      <td>-1</td>\n",
       "      <td>3.200000</td>\n",
       "      <td>...</td>\n",
       "      <td>21257.0</td>\n",
       "      <td>6226.0</td>\n",
       "      <td>17010.0</td>\n",
       "      <td>5755.0</td>\n",
       "      <td>7083.0</td>\n",
       "      <td>6452.0</td>\n",
       "      <td>0.8041</td>\n",
       "      <td>15056.0</td>\n",
       "      <td>1799.0</td>\n",
       "      <td>1016.0</td>\n",
       "    </tr>\n",
       "    <tr>\n",
       "      <th>296</th>\n",
       "      <td>20.0</td>\n",
       "      <td>Milwaukee</td>\n",
       "      <td>universityofwisconsinmilwaukee</td>\n",
       "      <td>53201</td>\n",
       "      <td>50.465217</td>\n",
       "      <td>35.27972</td>\n",
       "      <td>33920.867133</td>\n",
       "      <td>WI</td>\n",
       "      <td>-1</td>\n",
       "      <td>3.100000</td>\n",
       "      <td>...</td>\n",
       "      <td>21701.0</td>\n",
       "      <td>9565.0</td>\n",
       "      <td>20844.0</td>\n",
       "      <td>8765.0</td>\n",
       "      <td>8925.0</td>\n",
       "      <td>8426.0</td>\n",
       "      <td>0.6545</td>\n",
       "      <td>16650.0</td>\n",
       "      <td>1951.0</td>\n",
       "      <td>1125.0</td>\n",
       "    </tr>\n",
       "    <tr>\n",
       "      <th>297</th>\n",
       "      <td>19.0</td>\n",
       "      <td>Valdosta</td>\n",
       "      <td>valdostastateuniversity</td>\n",
       "      <td>31698</td>\n",
       "      <td>50.465217</td>\n",
       "      <td>35.27972</td>\n",
       "      <td>33920.867133</td>\n",
       "      <td>GA</td>\n",
       "      <td>-1</td>\n",
       "      <td>3.200000</td>\n",
       "      <td>...</td>\n",
       "      <td>20988.0</td>\n",
       "      <td>6410.0</td>\n",
       "      <td>17196.0</td>\n",
       "      <td>6216.0</td>\n",
       "      <td>6718.0</td>\n",
       "      <td>6624.0</td>\n",
       "      <td>0.7658</td>\n",
       "      <td>14656.0</td>\n",
       "      <td>941.0</td>\n",
       "      <td>1059.0</td>\n",
       "    </tr>\n",
       "    <tr>\n",
       "      <th>298</th>\n",
       "      <td>21.0</td>\n",
       "      <td>Wichita</td>\n",
       "      <td>wichitastateuniversity</td>\n",
       "      <td>67260</td>\n",
       "      <td>50.465217</td>\n",
       "      <td>35.27972</td>\n",
       "      <td>33920.867133</td>\n",
       "      <td>KS</td>\n",
       "      <td>-1</td>\n",
       "      <td>3.400000</td>\n",
       "      <td>...</td>\n",
       "      <td>18924.0</td>\n",
       "      <td>8432.0</td>\n",
       "      <td>17390.0</td>\n",
       "      <td>8568.0</td>\n",
       "      <td>7543.0</td>\n",
       "      <td>7651.0</td>\n",
       "      <td>0.9680</td>\n",
       "      <td>14113.0</td>\n",
       "      <td>777.0</td>\n",
       "      <td>1159.0</td>\n",
       "    </tr>\n",
       "    <tr>\n",
       "      <th>299</th>\n",
       "      <td>18.0</td>\n",
       "      <td>Dayton</td>\n",
       "      <td>wrightstateuniversity</td>\n",
       "      <td>45435</td>\n",
       "      <td>50.465217</td>\n",
       "      <td>35.27972</td>\n",
       "      <td>33920.867133</td>\n",
       "      <td>OH</td>\n",
       "      <td>-1</td>\n",
       "      <td>3.300000</td>\n",
       "      <td>...</td>\n",
       "      <td>21261.0</td>\n",
       "      <td>8730.0</td>\n",
       "      <td>17098.0</td>\n",
       "      <td>9612.0</td>\n",
       "      <td>10860.0</td>\n",
       "      <td>9173.0</td>\n",
       "      <td>0.9940</td>\n",
       "      <td>16249.0</td>\n",
       "      <td>1586.0</td>\n",
       "      <td>1107.0</td>\n",
       "    </tr>\n",
       "  </tbody>\n",
       "</table>\n",
       "<p>300 rows × 62 columns</p>\n",
       "</div>"
      ],
      "text/plain": [
       "     act_avg        city                        sortName    zip  \\\n",
       "0       32.0   Princeton             princetonuniversity   8544   \n",
       "1       32.0   Cambridge               harvarduniversity   2138   \n",
       "2       32.0     Chicago             universityofchicago  60637   \n",
       "3       32.0   New Haven                  yaleuniversity   6520   \n",
       "4       32.0    New York              columbiauniversity  10027   \n",
       "..       ...         ...                             ...    ...   \n",
       "295     18.0  Carrollton         universityofwestgeorgia  30118   \n",
       "296     20.0   Milwaukee  universityofwisconsinmilwaukee  53201   \n",
       "297     19.0    Valdosta         valdostastateuniversity  31698   \n",
       "298     21.0     Wichita          wichitastateuniversity  67260   \n",
       "299     18.0      Dayton           wrightstateuniversity  45435   \n",
       "\n",
       "     rankingDisplayScore  percent_receiving_aid  cost_after_aid state  \\\n",
       "0             100.000000               60.00000    16793.000000    NJ   \n",
       "1              98.000000               55.00000    16338.000000    MA   \n",
       "2              96.000000               42.00000    27767.000000    IL   \n",
       "3              96.000000               50.00000    18385.000000    CT   \n",
       "4              95.000000               48.00000    21041.000000    NY   \n",
       "..                   ...                    ...             ...   ...   \n",
       "295            50.465217               35.27972    33920.867133    GA   \n",
       "296            50.465217               35.27972    33920.867133    WI   \n",
       "297            50.465217               35.27972    33920.867133    GA   \n",
       "298            50.465217               35.27972    33920.867133    KS   \n",
       "299            50.465217               35.27972    33920.867133    OH   \n",
       "\n",
       "     rankingSortRank  hs_gpa_avg  ... avg_cost  instante_tuition  \\\n",
       "0                  1    3.900000  ...  64390.0           47140.0   \n",
       "1                  2    4.000000  ...  66900.0           48949.0   \n",
       "2                  3    4.000000  ...  72717.0           56034.0   \n",
       "3                  3    3.546502  ...  68950.0           51400.0   \n",
       "4                  5    3.546502  ...  71972.0           57208.0   \n",
       "..               ...         ...  ...      ...               ...   \n",
       "295               -1    3.200000  ...  21257.0            6226.0   \n",
       "296               -1    3.100000  ...  21701.0            9565.0   \n",
       "297               -1    3.200000  ...  20988.0            6410.0   \n",
       "298               -1    3.400000  ...  18924.0            8432.0   \n",
       "299               -1    3.300000  ...  21261.0            8730.0   \n",
       "\n",
       "     outstate_tuition  tuition_revenue_per  instructional_expenditure_per  \\\n",
       "0             47140.0              13216.0                        53658.0   \n",
       "1             48949.0              31930.0                        43823.0   \n",
       "2             56034.0              28508.0                        89151.0   \n",
       "3             51400.0              17934.0                       120956.0   \n",
       "4             57208.0              37294.0                        89742.0   \n",
       "..                ...                  ...                            ...   \n",
       "295           17010.0               5755.0                         7083.0   \n",
       "296           20844.0               8765.0                         8925.0   \n",
       "297           17196.0               6216.0                         6718.0   \n",
       "298           17390.0               8568.0                         7543.0   \n",
       "299           17098.0               9612.0                        10860.0   \n",
       "\n",
       "     avg_faculty_salary ft_faculty_rate  avg_net_price number_titleIV sat_avg  \n",
       "0               17519.0          0.8490        10027.0          346.0  1500.0  \n",
       "1               19741.0          0.8589        14327.0          350.0  1523.0  \n",
       "2               18115.0          0.8239        25455.0          494.0  1524.0  \n",
       "3               17517.0          0.7459        18627.0          387.0  1520.0  \n",
       "4               18713.0          0.4688        24231.0          526.0  1522.0  \n",
       "..                  ...             ...            ...            ...     ...  \n",
       "295              6452.0          0.8041        15056.0         1799.0  1016.0  \n",
       "296              8426.0          0.6545        16650.0         1951.0  1125.0  \n",
       "297              6624.0          0.7658        14656.0          941.0  1059.0  \n",
       "298              7651.0          0.9680        14113.0          777.0  1159.0  \n",
       "299              9173.0          0.9940        16249.0         1586.0  1107.0  \n",
       "\n",
       "[300 rows x 62 columns]"
      ]
     },
     "execution_count": 408,
     "metadata": {},
     "output_type": "execute_result"
    }
   ],
   "source": [
    "# based on dataset from data cleaning\n",
    "df = pd.read_csv('~/Desktop/303/cleaned_data.csv')\n",
    "df.columns\n",
    "df= df.fillna(df.mean())\n",
    "df2 = df.loc[df.rankingSortRank > 0,:]\n",
    "df"
   ]
  },
  {
   "cell_type": "code",
   "execution_count": 284,
   "id": "aa4b13cf",
   "metadata": {},
   "outputs": [],
   "source": [
    "# selecting columns in int and float type for loocv\n",
    "X = df[['act_avg', 'sat_avg','rankingDisplayScore', 'percent_receiving_aid',\n",
    "       'cost_after_aid', 'hs_gpa_avg', 'xwalkId','businessRepScore', 'tuition',\n",
    "       'engineeringRepScore','overallRank',\n",
    "       'primaryKey', 'OPEID6','branches', 'admission_rate', 'satCR25', 'satCR75', 'satmt25', 'satmt75',\n",
    "       'satcrmid', 'satmtmid', 'actcm25', 'actcm75', 'acten25', 'acten75',\n",
    "       'actmt25', 'actmt75', 'actcmmid', 'actenmid', 'actmtmid',\n",
    "       'ug_enrollment', 'percent_white', 'percent_black', 'percent_hispanic',\n",
    "       'percent_asian', 'percent_aian', 'percent_nhpi', 'percent_twoormore',\n",
    "       'percent_nra', 'percent_unknown', 'percent_parttime', 'avg_cost',\n",
    "       'instante_tuition', 'outstate_tuition', 'tuition_revenue_per',\n",
    "       'instructional_expenditure_per', 'avg_faculty_salary',\n",
    "       'ft_faculty_rate', 'avg_net_price', 'number_titleIV', 'sat_avg']]\n",
    "Y = df[['rankingSortRank']]"
   ]
  },
  {
   "cell_type": "code",
   "execution_count": 285,
   "id": "e73537e9",
   "metadata": {},
   "outputs": [
    {
     "data": {
      "text/plain": [
       "act_avg                          float64\n",
       "sat_avg                          float64\n",
       "rankingDisplayScore              float64\n",
       "percent_receiving_aid            float64\n",
       "cost_after_aid                   float64\n",
       "hs_gpa_avg                       float64\n",
       "xwalkId                            int64\n",
       "businessRepScore                 float64\n",
       "tuition                            int64\n",
       "engineeringRepScore              float64\n",
       "overallRank                        int64\n",
       "primaryKey                         int64\n",
       "OPEID6                             int64\n",
       "branches                           int64\n",
       "admission_rate                   float64\n",
       "satCR25                          float64\n",
       "satCR75                          float64\n",
       "satmt25                          float64\n",
       "satmt75                          float64\n",
       "satcrmid                         float64\n",
       "satmtmid                         float64\n",
       "actcm25                          float64\n",
       "actcm75                          float64\n",
       "acten25                          float64\n",
       "acten75                          float64\n",
       "actmt25                          float64\n",
       "actmt75                          float64\n",
       "actcmmid                         float64\n",
       "actenmid                         float64\n",
       "actmtmid                         float64\n",
       "ug_enrollment                    float64\n",
       "percent_white                    float64\n",
       "percent_black                    float64\n",
       "percent_hispanic                 float64\n",
       "percent_asian                    float64\n",
       "percent_aian                     float64\n",
       "percent_nhpi                     float64\n",
       "percent_twoormore                float64\n",
       "percent_nra                      float64\n",
       "percent_unknown                  float64\n",
       "percent_parttime                 float64\n",
       "avg_cost                         float64\n",
       "instante_tuition                 float64\n",
       "outstate_tuition                 float64\n",
       "tuition_revenue_per              float64\n",
       "instructional_expenditure_per    float64\n",
       "avg_faculty_salary               float64\n",
       "ft_faculty_rate                  float64\n",
       "avg_net_price                    float64\n",
       "number_titleIV                   float64\n",
       "sat_avg                          float64\n",
       "dtype: object"
      ]
     },
     "execution_count": 285,
     "metadata": {},
     "output_type": "execute_result"
    }
   ],
   "source": [
    "X.dtypes"
   ]
  },
  {
   "cell_type": "code",
   "execution_count": 286,
   "id": "e2e814e3",
   "metadata": {},
   "outputs": [
    {
     "name": "stdout",
     "output_type": "stream",
     "text": [
      "[1, 2, 3, 3, 5, 5, 5, 8, 9, 10, 11, 11, 11, 14, 14, 14, 14, 18, 18, 20, 21, 21, 21, 21, 25, 25, 27, 28, 29, 30, 30, 32, 32, 34, 34, 34, 37, 37, 37, 40, 40, 42, 42, 42, 42, 46, 46, 46, 46, 46, 46, 52, 52, 54, 54, 56, 56, 56, 56, 56, 61, 61, 61, 61, 61, 61, 67, 68, 69, 69, 69, 69, 69, 69, 75, 75, 75, 78, 78, 78, 81, 81, 81, 81, 81, 81, 87, 87, 87, 90, 90, 90, 90, 94, 94, 94, 97, 97, 97, 97, 97, 97, 103, 103, 103, 103, 103, 103, 103, 110, 110, 110, 110, 110, 115, 115, 115, 115, 115, 120, 120, 120, 120, 124, 124, 124, 124, 124, 124, 124, 124, 132, 133, 133, 133, 133, 133, 133, 133, 140, 140, 140, 140, 140, 145, 145, 145, 145, 145, 145, 151, 151, 151, 151, 151, 156, 156, 156, 159, 159, 159, 159, 159, 159, 165, 165, 165, 165, 165, 165, 171, 171, 171, 171, 171, 176, 176, 176, 176, 176, 181, 181, 181, 181, 181, 181, 187, 187, 187, 187, 187, 192, 192, 192, 192, 192, 192, 198, 198, 198, 198, 202, 202, 202, 202, 202, 207, 207, 207, 207, 207, 207, 207, 207, 207, 216, 216, 216, 216, 216, 216, 216, 223, 223, 223, 223, 223, 223, 223, 223, -1, -1, -1, -1, -1, -1, -1, -1, -1, -1, -1, -1, -1, -1, -1, -1, -1, -1, -1, -1, -1, -1, -1, -1, -1, -1, -1, -1, -1, -1, -1, -1, -1, -1, -1, -1, -1, -1, -1, -1, -1, -1, -1, -1, -1, -1, -1, -1, -1, -1, -1, -1, -1, -1, -1, -1, -1, -1, -1, -1, -1, -1, -1, -1, -1, -1, -1, -1, -1, -1]\n",
      "-----\n",
      "[14, 14, 21, 10, 5, 5, 1, 14, 11, 3, 14, 18, 18, 14, 46, 8, 14, 34, 3, 21, 11, 42, 21, 21, 32, 46, 14, 56, 46, 110, 25, 46, 156, 46, 103, 14, 30, 97, 124, 90, 46, 94, 42, 21, 81, 14, 20, 21, 37, 140, 61, 115, 115, 56, 81, 21, 140, 28, 140, 145, 176, 69, 87, 61, 81, 159, 103, 97, 46, 56, 223, 140, 115, 140, 61, 159, 81, 133, 61, 81, 124, 171, 90, 140, 124, 56, 97, 46, -1, 81, 151, 110, 46, 61, 61, 151, 61, 97, 207, 192, 171, 32, 159, 124, 120, 75, 133, 133, 192, 198, 69, 37, 20, 192, 52, 140, 69, 145, 94, 159, 133, 151, 140, 94, 133, 165, 187, 81, 81, 94, 140, 87, -1, 124, 90, 198, 103, 171, 103, 124, 46, -1, 115, 192, 207, 171, 151, 97, 97, 133, 181, 94, 176, 165, 207, -1, 103, 165, 120, 110, 207, 34, 124, 207, -1, -1, 207, 187, 156, 97, -1, 151, 54, 207, 140, -1, 181, -1, -1, 159, -1, 151, 181, 151, 103, 216, 124, -1, -1, 124, -1, 181, 56, 140, -1, 207, 94, -1, 207, 110, -1, -1, -1, 181, 81, 207, -1, -1, -1, -1, 207, 97, 165, -1, 216, 133, -1, -1, 97, 207, 207, -1, -1, -1, -1, -1, -1, 181, -1, 192, -1, 181, 223, -1, -1, 181, -1, -1, -1, -1, -1, 61, -1, -1, -1, -1, -1, 176, -1, -1, -1, -1, -1, 124, 159, -1, -1, -1, -1, -1, -1, -1, 181, -1, -1, -1, -1, -1, -1, -1, -1, -1, 223, -1, -1, -1, -1, 207, -1, -1, -1, -1, -1, -1, 207, -1, 207, -1, -1, -1, 56, -1, -1, 216, -1, -1, -1, -1, -1, -1]\n",
      "Accuracy: 0.22333333333333333\n"
     ]
    }
   ],
   "source": [
    "# use loocv to predict and get accuracy\n",
    "X = df[['act_avg', 'sat_avg','rankingDisplayScore', 'percent_receiving_aid',\n",
    "       'cost_after_aid', 'hs_gpa_avg', 'xwalkId','businessRepScore', 'tuition',\n",
    "       'engineeringRepScore','overallRank',\n",
    "       'primaryKey', 'OPEID6','branches', 'admission_rate', 'satCR25', 'satCR75', 'satmt25', 'satmt75',\n",
    "       'satcrmid', 'satmtmid', 'actcm25', 'actcm75', 'acten25', 'acten75',\n",
    "       'actmt25', 'actmt75', 'actcmmid', 'actenmid', 'actmtmid',\n",
    "       'ug_enrollment', 'percent_white', 'percent_black', 'percent_hispanic',\n",
    "       'percent_asian', 'percent_aian', 'percent_nhpi', 'percent_twoormore',\n",
    "       'percent_nra', 'percent_unknown', 'percent_parttime', 'avg_cost',\n",
    "       'instante_tuition', 'outstate_tuition', 'tuition_revenue_per',\n",
    "       'instructional_expenditure_per', 'avg_faculty_salary',\n",
    "       'ft_faculty_rate', 'avg_net_price', 'number_titleIV']]\n",
    "y = df[['rankingSortRank']]\n",
    "loocv = LeaveOneOut()\n",
    "loocv.get_n_splits(X)\n",
    "\n",
    "model = LogisticRegression()\n",
    "\n",
    "true = []\n",
    "predicted = []\n",
    "\n",
    "for train_index, test_index in loocv.split(X):\n",
    "\n",
    "    X_train=X.loc[train_index]\n",
    "    X_test=X.loc[test_index]\n",
    "    y_train=y.loc[train_index]\n",
    "    y_test=y.loc[test_index]\n",
    "    \n",
    "    model.fit(X_train, y_train)\n",
    "\n",
    "    y_pred = model.predict(X_test)\n",
    "\n",
    "    true.append(y_test['rankingSortRank'].values[0])\n",
    "    predicted.append(y_pred[0])\n",
    "    \n",
    "print(true)\n",
    "print(\"-----\")\n",
    "print(predicted)\n",
    "accuracy = accuracy_score(true, predicted)\n",
    "\n",
    "print(\"Accuracy:\", accuracy) # accuracy score for specific rank predicting, will do classification accuracy later"
   ]
  },
  {
   "cell_type": "code",
   "execution_count": 396,
   "id": "04f2042d",
   "metadata": {},
   "outputs": [
    {
     "name": "stdout",
     "output_type": "stream",
     "text": [
      "[0, 1, 2, 3, 4, 5, 6, 7, 8, 9, 10, 11, 12, 13, 14, 15, 16, 17, 18, 19, 20, 21, 22, 23, 24, 25, 26, 27, 28, 29, 30, 31, 32, 33, 34, 35, 36, 37, 38, 39, 40, 41, 42, 43, 44, 45, 46, 47, 48, 49, 50, 230, 231, 232, 233, 234, 235, 236, 237, 238, 239, 240, 241, 242, 243, 244, 245, 246, 247, 248, 249, 250, 251, 252, 253, 254, 255, 256, 257, 258, 259, 260, 261, 262, 263, 264, 265, 266, 267, 268, 269, 270, 271, 272, 273, 274, 275, 276, 277, 278, 279, 280, 281, 282, 283, 284, 285, 286, 287, 288, 289, 290, 291, 292, 293, 294, 295, 296, 297, 298, 299]\n",
      "-----\n",
      "[51, 52, 53, 54, 55, 56, 57, 58, 59, 60, 61, 62, 63, 64, 65, 66, 67, 68, 69, 70, 71, 72, 73, 74, 75, 76, 77, 78, 79, 80, 81, 82, 83, 84, 85, 86, 87, 88, 89, 90, 91, 92, 93, 94, 95, 96, 97, 98, 99, 100, 101, 102, 103, 104, 105, 106, 107, 108, 109, 110, 111, 112, 113, 114, 115, 116, 117, 118, 119, 120, 121, 122, 123, 124, 125, 126, 127, 128, 129, 130, 131, 132, 133, 134, 135, 136, 137, 138, 139, 140, 141, 142, 143, 144, 145, 146, 147, 148, 149, 150, 151, 152, 153, 154, 155, 156, 157, 158, 159, 160, 161, 162, 163, 164, 165, 166, 167, 168, 169, 170, 171, 172, 173, 174, 175, 176, 177, 178, 179, 180, 181, 182, 183, 184, 185, 186, 187, 188, 189, 190, 191, 192, 193, 194, 195, 196, 197, 198, 199, 200, 201, 202, 203, 204, 205, 206, 207, 208, 209, 210, 211, 212, 213, 214, 215, 216, 217, 218, 219, 220, 221, 222, 223, 224, 225, 226, 227, 228, 229]\n",
      "prediction below-----------------\n",
      "[0, 1, 2, 3, 4, 5, 6, 7, 8, 9, 10, 11, 12, 13, 14, 15, 16, 17, 18, 19, 20, 21, 22, 23, 24, 25, 26, 28, 30, 31, 33, 35, 36, 40, 42, 43, 45, 46, 47, 48, 55, 57, 68, 87, 88, 92, 101, 111, 112, 132, 140, 141, 155, 161, 164, 165, 170, 175, 177, 178, 180, 187, 188, 190, 194, 197, 200, 201, 202, 206, 207, 208, 209, 213, 216, 217, 221, 222, 223, 224, 225, 226, 228, 230, 233, 234, 236, 237, 238, 239, 240, 242, 243, 244, 245, 246, 248, 249, 250, 251, 252, 255, 256, 257, 258, 259, 260, 261, 263, 264, 265, 266, 267, 268, 269, 270, 271, 273, 274, 275, 276, 278, 279, 280, 281, 282, 283, 285, 287, 288, 289, 291, 292, 294, 295, 296, 297, 298, 299]\n",
      "-----\n",
      "[27, 29, 32, 34, 37, 38, 39, 41, 44, 49, 50, 51, 52, 53, 54, 56, 58, 59, 60, 61, 62, 63, 64, 65, 66, 67, 69, 70, 71, 72, 73, 74, 75, 76, 77, 78, 79, 80, 81, 82, 83, 84, 85, 86, 89, 90, 91, 93, 94, 95, 96, 97, 98, 99, 100, 102, 103, 104, 105, 106, 107, 108, 109, 110, 113, 114, 115, 116, 117, 118, 119, 120, 121, 122, 123, 124, 125, 126, 127, 128, 129, 130, 131, 133, 134, 135, 136, 137, 138, 139, 142, 143, 144, 145, 146, 147, 148, 149, 150, 151, 152, 153, 154, 156, 157, 158, 159, 160, 162, 163, 166, 167, 168, 169, 171, 172, 173, 174, 176, 179, 181, 182, 183, 184, 185, 186, 189, 191, 192, 193, 195, 196, 198, 199, 203, 204, 205, 210, 211, 212, 214, 215, 218, 219, 220, 227, 229, 231, 232, 235, 241, 247, 253, 254, 262, 272, 277, 284, 286, 290, 293]\n"
     ]
    }
   ],
   "source": [
    "# use loocv to predict and get accuracy\n",
    "X = df[['act_avg', 'sat_avg','rankingDisplayScore', 'percent_receiving_aid',\n",
    "       'cost_after_aid', 'hs_gpa_avg', 'xwalkId','businessRepScore', 'tuition',\n",
    "       'engineeringRepScore','overallRank',\n",
    "       'primaryKey', 'OPEID6','branches', 'admission_rate', 'satCR25', 'satCR75', 'satmt25', 'satmt75',\n",
    "       'satcrmid', 'satmtmid', 'actcm25', 'actcm75', 'acten25', 'acten75',\n",
    "       'actmt25', 'actmt75', 'actcmmid', 'actenmid', 'actmtmid',\n",
    "       'ug_enrollment', 'percent_white', 'percent_black', 'percent_hispanic',\n",
    "       'percent_asian', 'percent_aian', 'percent_nhpi', 'percent_twoormore',\n",
    "       'percent_nra', 'percent_unknown', 'percent_parttime', 'avg_cost',\n",
    "       'instante_tuition', 'outstate_tuition', 'tuition_revenue_per',\n",
    "       'instructional_expenditure_per', 'avg_faculty_salary',\n",
    "       'ft_faculty_rate', 'avg_net_price', 'number_titleIV']]\n",
    "y = df[['rankingSortRank']]\n",
    "loocv = LeaveOneOut()\n",
    "loocv.get_n_splits(X)\n",
    "\n",
    "model = LogisticRegression()\n",
    "\n",
    "true = []\n",
    "predicted = []\n",
    "\n",
    "high_df = []\n",
    "low_df = []\n",
    "high_predicted = []\n",
    "low_predicted = []\n",
    "\n",
    "for train_index, test_index in loocv.split(X):\n",
    "\n",
    "    X_train=X.loc[train_index]\n",
    "    X_test=X.loc[test_index]\n",
    "    y_train=y.loc[train_index]\n",
    "    y_test=y.loc[test_index]\n",
    "    \n",
    "    model.fit(X_train, y_train)\n",
    "\n",
    "    y_pred = model.predict(X_test)\n",
    "\n",
    "    true.append(y_test['rankingSortRank'].values[0])\n",
    "    predicted.append(y_pred[0])\n",
    "    \n",
    "    #classifying into high and low\n",
    "    \n",
    "    if y_test['rankingSortRank'].values[0] < 50:\n",
    "        high_df.append(test_index[0])\n",
    "    else:\n",
    "        low_df.append(test_index[0])\n",
    "    if y_pred[0] < 50:\n",
    "        high_predicted.append(test_index[0])\n",
    "    else:\n",
    "        low_predicted.append(test_index[0])\n",
    "\n",
    "print(high_df)\n",
    "print(\"-----\")\n",
    "print(low_df)\n",
    "print(\"prediction below-----------------\")\n",
    "print(high_predicted)\n",
    "print(\"-----\")\n",
    "print(low_predicted)"
   ]
  },
  {
   "cell_type": "code",
   "execution_count": 397,
   "id": "b966c5c6",
   "metadata": {},
   "outputs": [
    {
     "data": {
      "text/plain": [
       "96"
      ]
     },
     "execution_count": 397,
     "metadata": {},
     "output_type": "execute_result"
    }
   ],
   "source": [
    "correct_h = 0\n",
    "for i in high_df:\n",
    "    for j in high_predicted:\n",
    "        if i ==j:\n",
    "            correct_h = correct_h + 1 \n",
    "correct_h            "
   ]
  },
  {
   "cell_type": "code",
   "execution_count": 398,
   "id": "18652b3a",
   "metadata": {
    "scrolled": false
   },
   "outputs": [
    {
     "data": {
      "text/plain": [
       "136"
      ]
     },
     "execution_count": 398,
     "metadata": {},
     "output_type": "execute_result"
    }
   ],
   "source": [
    "correct_l = 0\n",
    "for i in low_df:\n",
    "    for j in low_predicted:\n",
    "        if i ==j:\n",
    "            correct_l = correct_l + 1 \n",
    "correct_l   "
   ]
  },
  {
   "cell_type": "code",
   "execution_count": 399,
   "id": "435d9779",
   "metadata": {},
   "outputs": [
    {
     "data": {
      "text/plain": [
       "0.7733333333333333"
      ]
     },
     "execution_count": 399,
     "metadata": {},
     "output_type": "execute_result"
    }
   ],
   "source": [
    "# accuracy rate for classifying\n",
    "(correct_h +correct_l)/df.shape[0]"
   ]
  },
  {
   "cell_type": "code",
   "execution_count": 400,
   "id": "1b5f049e",
   "metadata": {},
   "outputs": [],
   "source": [
    "# dataset for submodel\n",
    "predicted_l = df.iloc[[27, 29, 32, 34, 37, 38, 39, 41, 44, 49, 50, 51, 52, 53, 54, 56, 58, 59, 60, 61, 62, 63, 64, 65, 66, 67, 69, 70, 71, 72, 73, 74, 75, 76, 77, 78, 79, 80, 81, 82, 83, 84, 85, 86, 89, 90, 91, 93, 94, 95, 96, 97, 98, 99, 100, 102, 103, 104, 105, 106, 107, 108, 109, 110, 113, 114, 115, 116, 117, 118, 119, 120, 121, 122, 123, 124, 125, 126, 127, 128, 129, 130, 131, 133, 134, 135, 136, 137, 138, 139, 142, 143, 144, 145, 146, 147, 148, 149, 150, 151, 152, 153, 154, 156, 157, 158, 159, 160, 162, 163, 166, 167, 168, 169, 171, 172, 173, 174, 176, 179, 181, 182, 183, 184, 185, 186, 189, 191, 192, 193, 195, 196, 198, 199, 203, 204, 205, 210, 211, 212, 214, 215, 218, 219, 220, 227, 229, 231, 232, 235, 241, 247, 253, 254, 262, 272, 277, 284, 286, 290, 293],:]\n",
    "predicted_l.to_csv('predicted_l.csv')"
   ]
  },
  {
   "cell_type": "code",
   "execution_count": 401,
   "id": "1a09e068",
   "metadata": {},
   "outputs": [],
   "source": [
    "# dataset for submodel\n",
    "predicted_h = df.iloc[[0, 1, 2, 3, 4, 5, 6, 7, 8, 9, 10, 11, 12, 13, 14, 15, 16, 17, 18, 19, 20, 21, 22, 23, 24, 25, 26, 28, 30, 31, 33, 35, 36, 40, 42, 43, 45, 46, 47, 48, 55, 57, 68, 87, 88, 92, 101, 111, 112, 132, 140, 141, 155, 161, 164, 165, 170, 175, 177, 178, 180, 187, 188, 190, 194, 197, 200, 201, 202, 206, 207, 208, 209, 213, 216, 217, 221, 222, 223, 224, 225, 226, 228, 230, 233, 234, 236, 237, 238, 239, 240, 242, 243, 244, 245, 246, 248, 249, 250, 251, 252, 255, 256, 257, 258, 259, 260, 261, 263, 264, 265, 266, 267, 268, 269, 270, 271, 273, 274, 275, 276, 278, 279, 280, 281, 282, 283, 285, 287, 288, 289, 291, 292, 294, 295, 296, 297, 298, 299],:]\n",
    "predicted_h.to_csv('predicted_h.csv')"
   ]
  },
  {
   "cell_type": "code",
   "execution_count": 402,
   "id": "6032d490",
   "metadata": {},
   "outputs": [
    {
     "name": "stdout",
     "output_type": "stream",
     "text": [
      "[0, 1, 2, 3, 4, 5, 6, 7, 8, 9, 10, 11, 12, 13, 14, 15, 16, 17, 18, 19, 20, 21, 22, 23, 230, 231, 232, 233, 234, 235, 236, 237, 238, 239, 240, 241, 242, 243, 244, 245, 246, 247, 248, 249, 250, 251, 252, 253, 254, 255, 256, 257, 258, 259, 260, 261, 262, 263, 264, 265, 266, 267, 268, 269, 270, 271, 272, 273, 274, 275, 276, 277, 278, 279, 280, 281, 282, 283, 284, 285, 286, 287, 288, 289, 290, 291, 292, 293, 294, 295, 296, 297, 298, 299]\n",
      "-----\n",
      "[24, 25, 26, 27, 28, 29, 30, 31, 32, 33, 34, 35, 36, 37, 38, 39, 40, 41, 42, 43, 44, 45, 46, 47, 48, 49, 50]\n",
      "-----\n",
      "[51, 52, 53, 54, 55, 56, 57, 58, 59, 60, 61, 62, 63, 64, 65, 66, 67, 68, 69, 70, 71, 72, 73, 74, 75, 76, 77, 78, 79, 80, 81, 82, 83, 84, 85, 86, 87, 88, 89, 90, 91, 92, 93, 94, 95, 96, 97, 98, 99, 100, 101, 102, 103, 104, 105, 106, 107, 108, 109, 110, 111, 112, 113, 114, 115, 116, 117, 118, 119, 120, 121, 122, 123, 124, 125, 126, 127, 128, 129, 130, 131, 132, 133, 134, 135, 136, 137, 138, 139, 140, 141, 142, 143, 144, 145, 146, 147, 148, 149, 150, 151, 152, 153, 154, 155, 156, 157, 158, 159, 160, 161, 162, 163, 164, 165, 166, 167, 168, 169, 170, 171, 172, 173, 174, 175, 176, 177, 178, 179, 180, 181, 182, 183, 184, 185, 186, 187, 188, 189, 190, 191, 192, 193, 194, 195, 196, 197, 198, 199, 200]\n",
      "-----\n",
      "[201, 202, 203, 204, 205, 206, 207, 208, 209, 210, 211, 212, 213, 214, 215, 216, 217, 218, 219, 220, 221, 222, 223, 224, 225, 226, 227, 228, 229]\n",
      "prediction below-----------------\n",
      "[0, 1, 2, 3, 4, 5, 6, 7, 8, 9, 10, 11, 12, 13, 15, 16, 18, 19, 20, 22, 23, 26, 35, 43, 45, 46, 47, 55, 88, 112, 132, 141, 155, 164, 165, 170, 175, 177, 178, 180, 187, 188, 190, 194, 197, 200, 201, 202, 206, 207, 208, 209, 213, 216, 217, 221, 222, 223, 224, 225, 226, 228, 230, 233, 234, 236, 237, 238, 239, 240, 242, 243, 244, 245, 246, 248, 249, 250, 251, 252, 255, 256, 257, 258, 259, 260, 261, 263, 264, 265, 266, 267, 268, 269, 270, 271, 273, 274, 275, 276, 278, 279, 280, 281, 282, 283, 285, 287, 288, 289, 291, 292, 294, 295, 296, 297, 298, 299]\n",
      "-----\n",
      "[14, 17, 21, 24, 25, 28, 30, 31, 33, 36, 40, 42, 48, 57, 68, 87, 92, 101, 111, 140, 161]\n",
      "-----\n",
      "[27, 29, 32, 34, 37, 38, 39, 41, 44, 49, 50, 51, 52, 53, 54, 56, 58, 59, 60, 61, 62, 63, 64, 65, 66, 67, 69, 71, 72, 73, 74, 75, 76, 77, 78, 79, 80, 81, 82, 83, 84, 85, 86, 89, 90, 91, 93, 94, 95, 96, 97, 99, 100, 102, 103, 104, 105, 106, 107, 108, 109, 110, 113, 114, 115, 116, 117, 118, 119, 120, 121, 122, 123, 124, 125, 126, 127, 128, 129, 130, 131, 133, 134, 135, 136, 137, 138, 139, 142, 143, 145, 146, 147, 148, 149, 150, 151, 152, 153, 156, 157, 158, 159, 162, 167, 168, 169, 171, 172, 174, 176, 179, 181, 182, 183, 184, 186, 189, 191, 192, 193, 196, 199, 203, 204, 211, 212, 215, 218, 227, 229, 231, 235, 241, 247, 253, 254, 262, 290]\n",
      "-----\n",
      "[70, 98, 144, 154, 160, 163, 166, 173, 185, 195, 198, 205, 210, 214, 219, 220, 232, 272, 277, 284, 286, 293]\n"
     ]
    }
   ],
   "source": [
    "# use loocv to predict and get accuracy through 3 cutoff in one model\n",
    "X = df[['act_avg', 'sat_avg','rankingDisplayScore', 'percent_receiving_aid',\n",
    "       'cost_after_aid', 'hs_gpa_avg', 'xwalkId','businessRepScore', 'tuition',\n",
    "       'engineeringRepScore','overallRank',\n",
    "       'primaryKey', 'OPEID6','branches', 'admission_rate', 'satCR25', 'satCR75', 'satmt25', 'satmt75',\n",
    "       'satcrmid', 'satmtmid', 'actcm25', 'actcm75', 'acten25', 'acten75',\n",
    "       'actmt25', 'actmt75', 'actcmmid', 'actenmid', 'actmtmid',\n",
    "       'ug_enrollment', 'percent_white', 'percent_black', 'percent_hispanic',\n",
    "       'percent_asian', 'percent_aian', 'percent_nhpi', 'percent_twoormore',\n",
    "       'percent_nra', 'percent_unknown', 'percent_parttime', 'avg_cost',\n",
    "       'instante_tuition', 'outstate_tuition', 'tuition_revenue_per',\n",
    "       'instructional_expenditure_per', 'avg_faculty_salary',\n",
    "       'ft_faculty_rate', 'avg_net_price', 'number_titleIV']]\n",
    "y = df[['rankingSortRank']]\n",
    "loocv = LeaveOneOut()\n",
    "loocv.get_n_splits(X)\n",
    "\n",
    "model = LogisticRegression()\n",
    "\n",
    "true = []\n",
    "predicted = []\n",
    "\n",
    "high_df = []\n",
    "medium_high_df = []\n",
    "medium_low_df = []\n",
    "low_df = []\n",
    "high_predicted = []\n",
    "medium_high_predicted = []\n",
    "medium_low_predicted = []\n",
    "low_predicted = []\n",
    "\n",
    "\n",
    "for train_index, test_index in loocv.split(X):\n",
    "\n",
    "    X_train=X.loc[train_index]\n",
    "    X_test=X.loc[test_index]\n",
    "    y_train=y.loc[train_index]\n",
    "    y_test=y.loc[test_index]\n",
    "    \n",
    "    model.fit(X_train, y_train)\n",
    "\n",
    "    y_pred = model.predict(X_test)\n",
    "\n",
    "    true.append(y_test['rankingSortRank'].values[0])\n",
    "    predicted.append(y_pred[0])\n",
    "    \n",
    "    #classifying into high and low\n",
    "    \n",
    "    if y_test['rankingSortRank'].values[0] < 50:\n",
    "        if y_test['rankingSortRank'].values[0] < 25:\n",
    "            high_df.append(test_index[0])\n",
    "        else:\n",
    "            medium_high_df.append(test_index[0])\n",
    "    else:\n",
    "        if y_test['rankingSortRank'].values[0] > 200:\n",
    "            low_df.append(test_index[0])\n",
    "        else:\n",
    "            medium_low_df.append(test_index[0])\n",
    "    if y_pred[0] < 50:\n",
    "        if y_pred[0] < 25:\n",
    "            high_predicted.append(test_index[0])\n",
    "        else:\n",
    "            medium_high_predicted.append(test_index[0])\n",
    "    else:\n",
    "        if y_pred[0] > 200:\n",
    "            low_predicted.append(test_index[0])\n",
    "        else:\n",
    "            medium_low_predicted.append(test_index[0])\n",
    "\n",
    "print(high_df)\n",
    "print(\"-----\")\n",
    "print(medium_high_df)\n",
    "print(\"-----\")\n",
    "print(medium_low_df)\n",
    "print(\"-----\")\n",
    "print(low_df)\n",
    "print(\"prediction below-----------------\")\n",
    "print(high_predicted)\n",
    "print(\"-----\")\n",
    "print(medium_high_predicted)\n",
    "print(\"-----\")\n",
    "print(medium_low_predicted)\n",
    "print(\"-----\")\n",
    "print(low_predicted)"
   ]
  },
  {
   "cell_type": "code",
   "execution_count": 403,
   "id": "7d22067d",
   "metadata": {},
   "outputs": [
    {
     "data": {
      "text/plain": [
       "77"
      ]
     },
     "execution_count": 403,
     "metadata": {},
     "output_type": "execute_result"
    }
   ],
   "source": [
    "correct_h = 0\n",
    "for i in high_df:\n",
    "    for j in high_predicted:\n",
    "        if i ==j:\n",
    "            correct_h = correct_h + 1 \n",
    "correct_h  "
   ]
  },
  {
   "cell_type": "code",
   "execution_count": 404,
   "id": "eed1e9a2",
   "metadata": {},
   "outputs": [
    {
     "data": {
      "text/plain": [
       "10"
      ]
     },
     "execution_count": 404,
     "metadata": {},
     "output_type": "execute_result"
    }
   ],
   "source": [
    "correct_medium_h = 0\n",
    "for i in medium_high_df:\n",
    "    for j in medium_high_predicted:\n",
    "        if i ==j:\n",
    "            correct_medium_h = correct_medium_h + 1 \n",
    "correct_medium_h "
   ]
  },
  {
   "cell_type": "code",
   "execution_count": 405,
   "id": "5297bacd",
   "metadata": {},
   "outputs": [
    {
     "data": {
      "text/plain": [
       "112"
      ]
     },
     "execution_count": 405,
     "metadata": {},
     "output_type": "execute_result"
    }
   ],
   "source": [
    "correct_medium_l = 0\n",
    "for i in medium_low_df:\n",
    "    for j in medium_low_predicted:\n",
    "        if i ==j:\n",
    "            correct_medium_l = correct_medium_l + 1 \n",
    "correct_medium_l "
   ]
  },
  {
   "cell_type": "code",
   "execution_count": 406,
   "id": "67f662d8",
   "metadata": {},
   "outputs": [
    {
     "data": {
      "text/plain": [
       "5"
      ]
     },
     "execution_count": 406,
     "metadata": {},
     "output_type": "execute_result"
    }
   ],
   "source": [
    "correct_l = 0\n",
    "for i in low_df:\n",
    "    for j in low_predicted:\n",
    "        if i ==j:\n",
    "            correct_l = correct_l + 1 \n",
    "correct_l   "
   ]
  },
  {
   "cell_type": "code",
   "execution_count": 407,
   "id": "21031b26",
   "metadata": {},
   "outputs": [
    {
     "data": {
      "text/plain": [
       "0.68"
      ]
     },
     "execution_count": 407,
     "metadata": {},
     "output_type": "execute_result"
    }
   ],
   "source": [
    "# accuracy rate for classifying through 3 cutoff in 1 model\n",
    "(correct_h +correct_medium_h+correct_medium_l +correct_l)/df.shape[0]"
   ]
  },
  {
   "cell_type": "code",
   "execution_count": null,
   "id": "7c6dca38",
   "metadata": {},
   "outputs": [],
   "source": [
    "# cut off-25,50,200 :0.68\n",
    "# cut off-25,50,150 :0.6\n",
    "# cut off-25,50,175 :0.63\n",
    "# cut off-30,50,175 :0.63\n",
    "# cut off-30,50,200 :0.63\n",
    "# cut off-30,60,200 :0.63\n",
    "# cut off-30,70,200 :0.63"
   ]
  },
  {
   "cell_type": "code",
   "execution_count": 427,
   "id": "c2c840ca",
   "metadata": {
    "scrolled": false
   },
   "outputs": [
    {
     "name": "stdout",
     "output_type": "stream",
     "text": [
      "[0, 1, 2, 3, 4, 5, 6, 7, 8, 9, 10, 11, 12, 13, 14, 15, 16, 17, 18, 19, 20, 21, 22, 23, 24, 25, 26, 27, 28, 29, 30, 31, 32, 33, 34, 35, 36, 37, 38, 39, 40, 41, 42, 43, 44, 45, 46, 47, 48, 49, 50]\n",
      "-----\n",
      "[51, 52, 53, 54, 55, 56, 57, 58, 59, 60, 61, 62, 63, 64, 65, 66, 67, 68, 69, 70, 71, 72, 73, 74, 75, 76, 77, 78, 79, 80, 81, 82, 83, 84, 85, 86, 87, 88, 89, 90, 91, 92, 93, 94, 95, 96, 97, 98, 99, 100, 101, 102, 103, 104, 105, 106, 107, 108, 109, 110, 111, 112, 113, 114, 115, 116, 117, 118, 119, 120, 121, 122, 123, 124, 125, 126, 127, 128, 129, 130, 131, 132, 133, 134, 135, 136, 137, 138, 139, 140, 141, 142, 143, 144, 145, 146, 147, 148, 149, 150, 151, 152, 153, 154, 155, 156, 157, 158, 159, 160, 161, 162, 163, 164, 165, 166, 167, 168, 169, 170, 171, 172, 173, 174, 175, 176, 177, 178, 179, 180, 181, 182, 183, 184, 185, 186, 187, 188, 189, 190, 191, 192, 193, 194, 195, 196, 197, 198, 199, 200, 201, 202, 203, 204, 205, 206, 207, 208, 209, 210, 211, 212, 213, 214, 215, 216, 217, 218, 219, 220, 221, 222, 223, 224, 225, 226, 227, 228, 229]\n",
      "prediction below-----------------\n",
      "[0, 1, 2, 3, 4, 5, 6, 7, 8, 9, 10, 11, 12, 13, 15, 16, 17, 18, 19, 20, 21, 22, 23, 24, 25, 26, 28, 30, 31, 33, 35, 36, 40, 42, 43, 45, 47, 48, 55, 85, 87, 89, 101, 110, 112, 128, 140, 161, 204]\n",
      "-----\n",
      "[14, 27, 29, 32, 34, 37, 38, 39, 41, 44, 46, 49, 50, 51, 52, 53, 54, 56, 57, 58, 59, 60, 61, 62, 63, 64, 65, 66, 67, 68, 69, 70, 71, 72, 73, 74, 75, 76, 77, 78, 79, 80, 81, 82, 83, 84, 86, 88, 90, 91, 92, 93, 94, 95, 96, 97, 98, 99, 100, 102, 103, 104, 105, 106, 107, 108, 109, 111, 113, 114, 115, 116, 117, 118, 119, 120, 121, 122, 123, 124, 125, 126, 127, 129, 130, 131, 132, 133, 134, 135, 136, 137, 138, 139, 141, 142, 143, 144, 145, 146, 147, 148, 149, 150, 151, 152, 153, 154, 155, 156, 157, 158, 159, 160, 162, 163, 164, 165, 166, 167, 168, 169, 170, 171, 172, 173, 174, 175, 176, 177, 178, 179, 180, 181, 182, 183, 184, 185, 186, 187, 188, 189, 190, 191, 192, 193, 194, 195, 196, 197, 198, 199, 200, 201, 202, 203, 205, 206, 207, 208, 209, 210, 211, 212, 213, 214, 215, 216, 217, 218, 219, 220, 221, 222, 223, 224, 225, 226, 227, 228, 229]\n"
     ]
    }
   ],
   "source": [
    "# use loocv to predict and get accuracy\n",
    "X = df2[['act_avg', 'sat_avg','rankingDisplayScore', 'percent_receiving_aid',\n",
    "       'cost_after_aid', 'hs_gpa_avg', 'xwalkId','businessRepScore', 'tuition',\n",
    "       'engineeringRepScore','overallRank',\n",
    "       'primaryKey', 'OPEID6','branches', 'admission_rate', 'satCR25', 'satCR75', 'satmt25', 'satmt75',\n",
    "       'satcrmid', 'satmtmid', 'actcm25', 'actcm75', 'acten25', 'acten75',\n",
    "       'actmt25', 'actmt75', 'actcmmid', 'actenmid', 'actmtmid',\n",
    "       'ug_enrollment', 'percent_white', 'percent_black', 'percent_hispanic',\n",
    "       'percent_asian', 'percent_aian', 'percent_nhpi', 'percent_twoormore',\n",
    "       'percent_nra', 'percent_unknown', 'percent_parttime', 'avg_cost',\n",
    "       'instante_tuition', 'outstate_tuition', 'tuition_revenue_per',\n",
    "       'instructional_expenditure_per', 'avg_faculty_salary',\n",
    "       'ft_faculty_rate', 'avg_net_price', 'number_titleIV']]\n",
    "y = df2[['rankingSortRank']]\n",
    "loocv = LeaveOneOut()\n",
    "loocv.get_n_splits(X)\n",
    "\n",
    "model = LogisticRegression()\n",
    "\n",
    "true = []\n",
    "predicted = []\n",
    "\n",
    "high_df = []\n",
    "low_df = []\n",
    "high_predicted = []\n",
    "low_predicted = []\n",
    "\n",
    "for train_index, test_index in loocv.split(X):\n",
    "\n",
    "    X_train=X.loc[train_index]\n",
    "    X_test=X.loc[test_index]\n",
    "    y_train=y.loc[train_index]\n",
    "    y_test=y.loc[test_index]\n",
    "    \n",
    "    model.fit(X_train, y_train)\n",
    "\n",
    "    y_pred = model.predict(X_test)\n",
    "\n",
    "    true.append(y_test['rankingSortRank'].values[0])\n",
    "    predicted.append(y_pred[0])\n",
    "    \n",
    "    #classifying into high and low\n",
    "    \n",
    "    if y_test['rankingSortRank'].values[0] < 50:\n",
    "        high_df.append(test_index[0])\n",
    "    else:\n",
    "        low_df.append(test_index[0])\n",
    "    if y_pred[0] < 50:\n",
    "        high_predicted.append(test_index[0])\n",
    "    else:\n",
    "        low_predicted.append(test_index[0])\n",
    "\n",
    "print(high_df)\n",
    "print(\"-----\")\n",
    "print(low_df)\n",
    "print(\"prediction below-----------------\")\n",
    "print(high_predicted)\n",
    "print(\"-----\")\n",
    "print(low_predicted)"
   ]
  },
  {
   "cell_type": "code",
   "execution_count": 433,
   "id": "bb8e0e4e",
   "metadata": {},
   "outputs": [],
   "source": [
    "# dataset for submodel-drop -1 ranking \n",
    "predicted_h = df.iloc[[0, 1, 2, 3, 4, 5, 6, 7, 8, 9, 10, 11, 12, 13, 15, 16, 17, 18, 19, 20, 21, 22, 23, 24, 25, 26, 28, 30, 31, 33, 35, 36, 40, 42, 43, 45, 47, 48, 55, 85, 87, 89, 101, 110, 112, 128, 140, 161, 204],:]\n",
    "predicted_h.to_csv('predicted_h.csv')\n",
    "predicted_l = df.iloc[[14, 27, 29, 32, 34, 37, 38, 39, 41, 44, 46, 49, 50, 51, 52, 53, 54, 56, 57, 58, 59, 60, 61, 62, 63, 64, 65, 66, 67, 68, 69, 70, 71, 72, 73, 74, 75, 76, 77, 78, 79, 80, 81, 82, 83, 84, 86, 88, 90, 91, 92, 93, 94, 95, 96, 97, 98, 99, 100, 102, 103, 104, 105, 106, 107, 108, 109, 111, 113, 114, 115, 116, 117, 118, 119, 120, 121, 122, 123, 124, 125, 126, 127, 129, 130, 131, 132, 133, 134, 135, 136, 137, 138, 139, 141, 142, 143, 144, 145, 146, 147, 148, 149, 150, 151, 152, 153, 154, 155, 156, 157, 158, 159, 160, 162, 163, 164, 165, 166, 167, 168, 169, 170, 171, 172, 173, 174, 175, 176, 177, 178, 179, 180, 181, 182, 183, 184, 185, 186, 187, 188, 189, 190, 191, 192, 193, 194, 195, 196, 197, 198, 199, 200, 201, 202, 203, 205, 206, 207, 208, 209, 210, 211, 212, 213, 214, 215, 216, 217, 218, 219, 220, 221, 222, 223, 224, 225, 226, 227, 228, 229],:]\n",
    "predicted_l.to_csv('predicted_l.csv')"
   ]
  },
  {
   "cell_type": "code",
   "execution_count": 428,
   "id": "c06ce81f",
   "metadata": {
    "scrolled": true
   },
   "outputs": [
    {
     "data": {
      "text/plain": [
       "38"
      ]
     },
     "execution_count": 428,
     "metadata": {},
     "output_type": "execute_result"
    }
   ],
   "source": [
    "correct_h = 0\n",
    "for i in high_df:\n",
    "    for j in high_predicted:\n",
    "        if i ==j:\n",
    "            correct_h = correct_h + 1 \n",
    "correct_h    "
   ]
  },
  {
   "cell_type": "code",
   "execution_count": 429,
   "id": "fa485ecd",
   "metadata": {},
   "outputs": [
    {
     "data": {
      "text/plain": [
       "168"
      ]
     },
     "execution_count": 429,
     "metadata": {},
     "output_type": "execute_result"
    }
   ],
   "source": [
    "correct_l = 0\n",
    "for i in low_df:\n",
    "    for j in low_predicted:\n",
    "        if i ==j:\n",
    "            correct_l = correct_l + 1 \n",
    "correct_l "
   ]
  },
  {
   "cell_type": "code",
   "execution_count": 430,
   "id": "dd6b9f5b",
   "metadata": {},
   "outputs": [
    {
     "data": {
      "text/plain": [
       "0.8956521739130435"
      ]
     },
     "execution_count": 430,
     "metadata": {},
     "output_type": "execute_result"
    }
   ],
   "source": [
    "# accuracy rate for classifying through 3 cutoff in 1 model\n",
    "(correct_h +correct_l)/df2.shape[0]"
   ]
  },
  {
   "cell_type": "code",
   "execution_count": 415,
   "id": "3d627fa0",
   "metadata": {},
   "outputs": [
    {
     "name": "stdout",
     "output_type": "stream",
     "text": [
      "[0, 1, 2, 3, 4, 5, 6, 7, 8, 9, 10, 11, 12, 13, 14, 15, 16, 17, 18, 19, 20, 21, 22, 23]\n",
      "-----\n",
      "[24, 25, 26, 27, 28, 29, 30, 31, 32, 33, 34, 35, 36, 37, 38, 39, 40, 41, 42, 43, 44, 45, 46, 47, 48, 49, 50]\n",
      "-----\n",
      "[51, 52, 53, 54, 55, 56, 57, 58, 59, 60, 61, 62, 63, 64, 65, 66, 67, 68, 69, 70, 71, 72, 73, 74, 75, 76, 77, 78, 79, 80, 81, 82, 83, 84, 85, 86, 87, 88, 89, 90, 91, 92, 93, 94, 95, 96, 97, 98, 99, 100, 101, 102, 103, 104, 105, 106, 107, 108, 109, 110, 111, 112, 113, 114, 115, 116, 117, 118, 119, 120, 121, 122, 123, 124, 125, 126, 127, 128, 129, 130, 131, 132, 133, 134, 135, 136, 137, 138, 139, 140, 141, 142, 143, 144, 145, 146, 147, 148, 149, 150, 151, 152, 153, 154, 155, 156, 157, 158, 159, 160, 161, 162, 163, 164, 165, 166, 167, 168, 169, 170, 171, 172, 173, 174, 175, 176, 177, 178, 179, 180, 181, 182, 183, 184, 185, 186, 187, 188, 189, 190, 191, 192, 193, 194, 195, 196, 197, 198, 199, 200]\n",
      "-----\n",
      "[201, 202, 203, 204, 205, 206, 207, 208, 209, 210, 211, 212, 213, 214, 215, 216, 217, 218, 219, 220, 221, 222, 223, 224, 225, 226, 227, 228, 229]\n",
      "prediction below-----------------\n",
      "[0, 1, 2, 3, 4, 5, 6, 7, 8, 9, 10, 11, 12, 13, 15, 16, 18, 19, 20, 22, 23, 26, 35, 43, 45, 47, 55]\n",
      "-----\n",
      "[17, 21, 24, 25, 28, 30, 31, 33, 36, 40, 42, 48, 85, 87, 89, 101, 110, 112, 128, 140, 161, 204]\n",
      "-----\n",
      "[14, 27, 29, 34, 37, 38, 39, 41, 44, 46, 49, 50, 51, 52, 53, 54, 56, 57, 58, 59, 61, 62, 63, 64, 66, 67, 68, 69, 71, 72, 73, 74, 76, 77, 78, 79, 80, 82, 83, 84, 86, 91, 92, 93, 94, 96, 97, 103, 104, 105, 106, 107, 109, 114, 115, 116, 117, 122, 123, 124, 126, 127, 129, 130, 131, 133, 134, 138, 139, 142, 143, 147, 148, 149, 151, 156, 157, 158, 159, 162, 169, 172, 174, 184, 185, 186, 189, 192, 193, 195, 196, 198, 199, 211, 215, 218, 226]\n",
      "-----\n",
      "[32, 60, 65, 70, 75, 81, 88, 90, 95, 98, 99, 100, 102, 108, 111, 113, 118, 119, 120, 121, 125, 132, 135, 136, 137, 141, 144, 145, 146, 150, 152, 153, 154, 155, 160, 163, 164, 165, 166, 167, 168, 170, 171, 173, 175, 176, 177, 178, 179, 180, 181, 182, 183, 187, 188, 190, 191, 194, 197, 200, 201, 202, 203, 205, 206, 207, 208, 209, 210, 212, 213, 214, 216, 217, 219, 220, 221, 222, 223, 224, 225, 227, 228, 229]\n"
     ]
    }
   ],
   "source": [
    "# use loocv to predict and get accuracy through 3 cutoff in one model\n",
    "X = df2[['act_avg', 'sat_avg','rankingDisplayScore', 'percent_receiving_aid',\n",
    "       'cost_after_aid', 'hs_gpa_avg', 'xwalkId','businessRepScore', 'tuition',\n",
    "       'engineeringRepScore','overallRank',\n",
    "       'primaryKey', 'OPEID6','branches', 'admission_rate', 'satCR25', 'satCR75', 'satmt25', 'satmt75',\n",
    "       'satcrmid', 'satmtmid', 'actcm25', 'actcm75', 'acten25', 'acten75',\n",
    "       'actmt25', 'actmt75', 'actcmmid', 'actenmid', 'actmtmid',\n",
    "       'ug_enrollment', 'percent_white', 'percent_black', 'percent_hispanic',\n",
    "       'percent_asian', 'percent_aian', 'percent_nhpi', 'percent_twoormore',\n",
    "       'percent_nra', 'percent_unknown', 'percent_parttime', 'avg_cost',\n",
    "       'instante_tuition', 'outstate_tuition', 'tuition_revenue_per',\n",
    "       'instructional_expenditure_per', 'avg_faculty_salary',\n",
    "       'ft_faculty_rate', 'avg_net_price', 'number_titleIV']]\n",
    "y = df2[['rankingSortRank']]\n",
    "loocv = LeaveOneOut()\n",
    "loocv.get_n_splits(X)\n",
    "\n",
    "model = LogisticRegression()\n",
    "\n",
    "true = []\n",
    "predicted = []\n",
    "\n",
    "high_df = []\n",
    "medium_high_df = []\n",
    "medium_low_df = []\n",
    "low_df = []\n",
    "high_predicted = []\n",
    "medium_high_predicted = []\n",
    "medium_low_predicted = []\n",
    "low_predicted = []\n",
    "\n",
    "\n",
    "for train_index, test_index in loocv.split(X):\n",
    "\n",
    "    X_train=X.loc[train_index]\n",
    "    X_test=X.loc[test_index]\n",
    "    y_train=y.loc[train_index]\n",
    "    y_test=y.loc[test_index]\n",
    "    \n",
    "    model.fit(X_train, y_train)\n",
    "\n",
    "    y_pred = model.predict(X_test)\n",
    "\n",
    "    true.append(y_test['rankingSortRank'].values[0])\n",
    "    predicted.append(y_pred[0])\n",
    "    \n",
    "    #classifying into high and low\n",
    "    \n",
    "    if y_test['rankingSortRank'].values[0] < 50:\n",
    "        if y_test['rankingSortRank'].values[0] < 25:\n",
    "            high_df.append(test_index[0])\n",
    "        else:\n",
    "            medium_high_df.append(test_index[0])\n",
    "    else:\n",
    "        if y_test['rankingSortRank'].values[0] > 200:\n",
    "            low_df.append(test_index[0])\n",
    "        else:\n",
    "            medium_low_df.append(test_index[0])\n",
    "    if y_pred[0] < 50:\n",
    "        if y_pred[0] < 25:\n",
    "            high_predicted.append(test_index[0])\n",
    "        else:\n",
    "            medium_high_predicted.append(test_index[0])\n",
    "    else:\n",
    "        if y_pred[0] > 150:\n",
    "            low_predicted.append(test_index[0])\n",
    "        else:\n",
    "            medium_low_predicted.append(test_index[0])\n",
    "\n",
    "print(high_df)\n",
    "print(\"-----\")\n",
    "print(medium_high_df)\n",
    "print(\"-----\")\n",
    "print(medium_low_df)\n",
    "print(\"-----\")\n",
    "print(low_df)\n",
    "print(\"prediction below-----------------\")\n",
    "print(high_predicted)\n",
    "print(\"-----\")\n",
    "print(medium_high_predicted)\n",
    "print(\"-----\")\n",
    "print(medium_low_predicted)\n",
    "print(\"-----\")\n",
    "print(low_predicted)"
   ]
  },
  {
   "cell_type": "code",
   "execution_count": 410,
   "id": "62319feb",
   "metadata": {},
   "outputs": [
    {
     "data": {
      "text/plain": [
       "21"
      ]
     },
     "execution_count": 410,
     "metadata": {},
     "output_type": "execute_result"
    }
   ],
   "source": [
    "correct_h = 0\n",
    "for i in high_df:\n",
    "    for j in high_predicted:\n",
    "        if i ==j:\n",
    "            correct_h = correct_h + 1 \n",
    "correct_h  "
   ]
  },
  {
   "cell_type": "code",
   "execution_count": 411,
   "id": "b513f8df",
   "metadata": {},
   "outputs": [
    {
     "data": {
      "text/plain": [
       "10"
      ]
     },
     "execution_count": 411,
     "metadata": {},
     "output_type": "execute_result"
    }
   ],
   "source": [
    "correct_medium_h = 0\n",
    "for i in medium_high_df:\n",
    "    for j in medium_high_predicted:\n",
    "        if i ==j:\n",
    "            correct_medium_h = correct_medium_h + 1 \n",
    "correct_medium_h "
   ]
  },
  {
   "cell_type": "code",
   "execution_count": 412,
   "id": "71bf4900",
   "metadata": {},
   "outputs": [
    {
     "data": {
      "text/plain": [
       "122"
      ]
     },
     "execution_count": 412,
     "metadata": {},
     "output_type": "execute_result"
    }
   ],
   "source": [
    "correct_medium_l = 0\n",
    "for i in medium_low_df:\n",
    "    for j in medium_low_predicted:\n",
    "        if i ==j:\n",
    "            correct_medium_l = correct_medium_l + 1 \n",
    "correct_medium_l "
   ]
  },
  {
   "cell_type": "code",
   "execution_count": 413,
   "id": "16fd765e",
   "metadata": {},
   "outputs": [
    {
     "data": {
      "text/plain": [
       "16"
      ]
     },
     "execution_count": 413,
     "metadata": {},
     "output_type": "execute_result"
    }
   ],
   "source": [
    "correct_l = 0\n",
    "for i in low_df:\n",
    "    for j in low_predicted:\n",
    "        if i ==j:\n",
    "            correct_l = correct_l + 1 \n",
    "correct_l   "
   ]
  },
  {
   "cell_type": "code",
   "execution_count": 414,
   "id": "a304f943",
   "metadata": {},
   "outputs": [
    {
     "data": {
      "text/plain": [
       "0.5633333333333334"
      ]
     },
     "execution_count": 414,
     "metadata": {},
     "output_type": "execute_result"
    }
   ],
   "source": [
    "# accuracy rate for classifying through 3 cutoff in 1 model - drop -1 ranking\n",
    "(correct_h +correct_medium_h+correct_medium_l +correct_l)/df.shape[0]"
   ]
  },
  {
   "cell_type": "code",
   "execution_count": null,
   "id": "c3493e11",
   "metadata": {},
   "outputs": [],
   "source": []
  }
 ],
 "metadata": {
  "kernelspec": {
   "display_name": "Python 3 (ipykernel)",
   "language": "python",
   "name": "python3"
  },
  "language_info": {
   "codemirror_mode": {
    "name": "ipython",
    "version": 3
   },
   "file_extension": ".py",
   "mimetype": "text/x-python",
   "name": "python",
   "nbconvert_exporter": "python",
   "pygments_lexer": "ipython3",
   "version": "3.9.7"
  }
 },
 "nbformat": 4,
 "nbformat_minor": 5
}
