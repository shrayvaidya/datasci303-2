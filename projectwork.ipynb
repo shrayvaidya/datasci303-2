{
 "cells": [
  {
   "cell_type": "code",
   "execution_count": 1,
   "id": "904aa9da",
   "metadata": {},
   "outputs": [],
   "source": [
    "import pandas as pd\n",
    "import numpy as np\n",
    "import statsmodels.formula.api as sm\n",
    "import seaborn as sns\n",
    "import matplotlib.pyplot as plt\n",
    "from sklearn.model_selection import train_test_split\n",
    "from sklearn.model_selection import LeaveOneOut\n",
    "from sklearn.model_selection import cross_val_score\n",
    "from sklearn.linear_model import LinearRegression\n",
    "from sklearn.linear_model import LogisticRegression\n",
    "from sklearn.metrics import accuracy_score\n",
    "import warnings\n",
    "warnings.filterwarnings('ignore')"
   ]
  },
  {
   "cell_type": "code",
   "execution_count": 2,
   "id": "06e60717",
   "metadata": {},
   "outputs": [],
   "source": [
    "df = pd.read_csv(\"newdata.csv\")"
   ]
  },
  {
   "cell_type": "code",
   "execution_count": 3,
   "id": "c84c2c1b",
   "metadata": {},
   "outputs": [
    {
     "data": {
      "text/html": [
       "<div>\n",
       "<style scoped>\n",
       "    .dataframe tbody tr th:only-of-type {\n",
       "        vertical-align: middle;\n",
       "    }\n",
       "\n",
       "    .dataframe tbody tr th {\n",
       "        vertical-align: top;\n",
       "    }\n",
       "\n",
       "    .dataframe thead th {\n",
       "        text-align: right;\n",
       "    }\n",
       "</style>\n",
       "<table border=\"1\" class=\"dataframe\">\n",
       "  <thead>\n",
       "    <tr style=\"text-align: right;\">\n",
       "      <th></th>\n",
       "      <th>act_avg</th>\n",
       "      <th>city</th>\n",
       "      <th>zip</th>\n",
       "      <th>percent_receiving_aid</th>\n",
       "      <th>cost_after_aid</th>\n",
       "      <th>state</th>\n",
       "      <th>rankingSortRank</th>\n",
       "      <th>hs_gpa_avg</th>\n",
       "      <th>businessRepScore</th>\n",
       "      <th>tuition</th>\n",
       "      <th>...</th>\n",
       "      <th>avg_cost</th>\n",
       "      <th>instante_tuition</th>\n",
       "      <th>outstate_tuition</th>\n",
       "      <th>tuition_revenue_per</th>\n",
       "      <th>instructional_expenditure_per</th>\n",
       "      <th>avg_faculty_salary</th>\n",
       "      <th>ft_faculty_rate</th>\n",
       "      <th>avg_net_price</th>\n",
       "      <th>number_titleIV</th>\n",
       "      <th>sat_avg</th>\n",
       "    </tr>\n",
       "  </thead>\n",
       "  <tbody>\n",
       "    <tr>\n",
       "      <th>0</th>\n",
       "      <td>32.0</td>\n",
       "      <td>Princeton</td>\n",
       "      <td>8544</td>\n",
       "      <td>60.0</td>\n",
       "      <td>16793.0</td>\n",
       "      <td>NJ</td>\n",
       "      <td>1</td>\n",
       "      <td>3.9</td>\n",
       "      <td>NaN</td>\n",
       "      <td>47140</td>\n",
       "      <td>...</td>\n",
       "      <td>64390.0</td>\n",
       "      <td>47140.0</td>\n",
       "      <td>47140.0</td>\n",
       "      <td>13216.0</td>\n",
       "      <td>53658.0</td>\n",
       "      <td>17519.0</td>\n",
       "      <td>0.8490</td>\n",
       "      <td>10027.0</td>\n",
       "      <td>346.0</td>\n",
       "      <td>1500.0</td>\n",
       "    </tr>\n",
       "    <tr>\n",
       "      <th>1</th>\n",
       "      <td>32.0</td>\n",
       "      <td>Cambridge</td>\n",
       "      <td>2138</td>\n",
       "      <td>55.0</td>\n",
       "      <td>16338.0</td>\n",
       "      <td>MA</td>\n",
       "      <td>2</td>\n",
       "      <td>4.0</td>\n",
       "      <td>NaN</td>\n",
       "      <td>48949</td>\n",
       "      <td>...</td>\n",
       "      <td>66900.0</td>\n",
       "      <td>48949.0</td>\n",
       "      <td>48949.0</td>\n",
       "      <td>31930.0</td>\n",
       "      <td>43823.0</td>\n",
       "      <td>19741.0</td>\n",
       "      <td>0.8589</td>\n",
       "      <td>14327.0</td>\n",
       "      <td>350.0</td>\n",
       "      <td>1523.0</td>\n",
       "    </tr>\n",
       "    <tr>\n",
       "      <th>2</th>\n",
       "      <td>32.0</td>\n",
       "      <td>Chicago</td>\n",
       "      <td>60637</td>\n",
       "      <td>42.0</td>\n",
       "      <td>27767.0</td>\n",
       "      <td>IL</td>\n",
       "      <td>3</td>\n",
       "      <td>4.0</td>\n",
       "      <td>NaN</td>\n",
       "      <td>54825</td>\n",
       "      <td>...</td>\n",
       "      <td>72717.0</td>\n",
       "      <td>56034.0</td>\n",
       "      <td>56034.0</td>\n",
       "      <td>28508.0</td>\n",
       "      <td>89151.0</td>\n",
       "      <td>18115.0</td>\n",
       "      <td>0.8239</td>\n",
       "      <td>25455.0</td>\n",
       "      <td>494.0</td>\n",
       "      <td>1524.0</td>\n",
       "    </tr>\n",
       "    <tr>\n",
       "      <th>3</th>\n",
       "      <td>32.0</td>\n",
       "      <td>New Haven</td>\n",
       "      <td>6520</td>\n",
       "      <td>50.0</td>\n",
       "      <td>18385.0</td>\n",
       "      <td>CT</td>\n",
       "      <td>3</td>\n",
       "      <td>NaN</td>\n",
       "      <td>NaN</td>\n",
       "      <td>51400</td>\n",
       "      <td>...</td>\n",
       "      <td>68950.0</td>\n",
       "      <td>51400.0</td>\n",
       "      <td>51400.0</td>\n",
       "      <td>17934.0</td>\n",
       "      <td>120956.0</td>\n",
       "      <td>17517.0</td>\n",
       "      <td>0.7459</td>\n",
       "      <td>18627.0</td>\n",
       "      <td>387.0</td>\n",
       "      <td>1520.0</td>\n",
       "    </tr>\n",
       "    <tr>\n",
       "      <th>4</th>\n",
       "      <td>32.0</td>\n",
       "      <td>New York</td>\n",
       "      <td>10027</td>\n",
       "      <td>48.0</td>\n",
       "      <td>21041.0</td>\n",
       "      <td>NY</td>\n",
       "      <td>5</td>\n",
       "      <td>NaN</td>\n",
       "      <td>NaN</td>\n",
       "      <td>57208</td>\n",
       "      <td>...</td>\n",
       "      <td>71972.0</td>\n",
       "      <td>57208.0</td>\n",
       "      <td>57208.0</td>\n",
       "      <td>37294.0</td>\n",
       "      <td>89742.0</td>\n",
       "      <td>18713.0</td>\n",
       "      <td>0.4688</td>\n",
       "      <td>24231.0</td>\n",
       "      <td>526.0</td>\n",
       "      <td>1522.0</td>\n",
       "    </tr>\n",
       "  </tbody>\n",
       "</table>\n",
       "<p>5 rows × 38 columns</p>\n",
       "</div>"
      ],
      "text/plain": [
       "   act_avg       city    zip  percent_receiving_aid  cost_after_aid state  \\\n",
       "0     32.0  Princeton   8544                   60.0         16793.0    NJ   \n",
       "1     32.0  Cambridge   2138                   55.0         16338.0    MA   \n",
       "2     32.0    Chicago  60637                   42.0         27767.0    IL   \n",
       "3     32.0  New Haven   6520                   50.0         18385.0    CT   \n",
       "4     32.0   New York  10027                   48.0         21041.0    NY   \n",
       "\n",
       "   rankingSortRank  hs_gpa_avg  businessRepScore  tuition  ...  avg_cost  \\\n",
       "0                1         3.9               NaN    47140  ...   64390.0   \n",
       "1                2         4.0               NaN    48949  ...   66900.0   \n",
       "2                3         4.0               NaN    54825  ...   72717.0   \n",
       "3                3         NaN               NaN    51400  ...   68950.0   \n",
       "4                5         NaN               NaN    57208  ...   71972.0   \n",
       "\n",
       "  instante_tuition outstate_tuition tuition_revenue_per  \\\n",
       "0          47140.0          47140.0             13216.0   \n",
       "1          48949.0          48949.0             31930.0   \n",
       "2          56034.0          56034.0             28508.0   \n",
       "3          51400.0          51400.0             17934.0   \n",
       "4          57208.0          57208.0             37294.0   \n",
       "\n",
       "   instructional_expenditure_per  avg_faculty_salary  ft_faculty_rate  \\\n",
       "0                        53658.0             17519.0           0.8490   \n",
       "1                        43823.0             19741.0           0.8589   \n",
       "2                        89151.0             18115.0           0.8239   \n",
       "3                       120956.0             17517.0           0.7459   \n",
       "4                        89742.0             18713.0           0.4688   \n",
       "\n",
       "   avg_net_price  number_titleIV  sat_avg  \n",
       "0        10027.0           346.0   1500.0  \n",
       "1        14327.0           350.0   1523.0  \n",
       "2        25455.0           494.0   1524.0  \n",
       "3        18627.0           387.0   1520.0  \n",
       "4        24231.0           526.0   1522.0  \n",
       "\n",
       "[5 rows x 38 columns]"
      ]
     },
     "execution_count": 3,
     "metadata": {},
     "output_type": "execute_result"
    }
   ],
   "source": [
    "df.head()"
   ]
  },
  {
   "cell_type": "code",
   "execution_count": 4,
   "id": "8877efa0",
   "metadata": {},
   "outputs": [
    {
     "data": {
      "text/plain": [
       "Index(['act_avg', 'city', 'zip', 'percent_receiving_aid', 'cost_after_aid',\n",
       "       'state', 'rankingSortRank', 'hs_gpa_avg', 'businessRepScore', 'tuition',\n",
       "       'engineeringRepScore', 'displayName', 'institutionalControl',\n",
       "       'institution_name', 'branches', 'region', 'admission_rate',\n",
       "       'ug_enrollment', 'percent_white', 'percent_black', 'percent_hispanic',\n",
       "       'percent_asian', 'percent_aian', 'percent_nhpi', 'percent_twoormore',\n",
       "       'percent_nra', 'percent_unknown', 'percent_parttime', 'avg_cost',\n",
       "       'instante_tuition', 'outstate_tuition', 'tuition_revenue_per',\n",
       "       'instructional_expenditure_per', 'avg_faculty_salary',\n",
       "       'ft_faculty_rate', 'avg_net_price', 'number_titleIV', 'sat_avg'],\n",
       "      dtype='object')"
      ]
     },
     "execution_count": 4,
     "metadata": {},
     "output_type": "execute_result"
    }
   ],
   "source": [
    "df.columns"
   ]
  },
  {
   "cell_type": "code",
   "execution_count": 6,
   "id": "30cee688",
   "metadata": {},
   "outputs": [],
   "source": [
    "pred_high = pd.read_csv(\"predicted_h_newdata.csv\")\n",
    "pred_high_230 = pd.read_csv(\"predicted_h_230rows_newdata.csv\")"
   ]
  },
  {
   "cell_type": "code",
   "execution_count": 7,
   "id": "c760d045",
   "metadata": {},
   "outputs": [],
   "source": [
    "pred_high = pred_high.fillna(pred_high.mean())\n",
    "pred_high_230 = pred_high_230.fillna(pred_high_230.mean())"
   ]
  },
  {
   "cell_type": "code",
   "execution_count": 8,
   "id": "780636cf",
   "metadata": {},
   "outputs": [],
   "source": [
    "# selecting columns in int and float type for loocv\n",
    "preds = pred_high[['act_avg', 'sat_avg','percent_receiving_aid',\n",
    "       'cost_after_aid', 'hs_gpa_avg','businessRepScore', 'tuition',\n",
    "       'engineeringRepScore','branches', 'admission_rate', \n",
    "       'ug_enrollment', 'percent_white', 'percent_black', 'percent_hispanic',\n",
    "       'percent_asian', 'percent_aian', 'percent_nhpi', 'percent_twoormore',\n",
    "       'percent_nra', 'percent_unknown', 'percent_parttime', 'avg_cost',\n",
    "       'instante_tuition', 'outstate_tuition', 'tuition_revenue_per',\n",
    "       'instructional_expenditure_per', 'avg_faculty_salary',\n",
    "       'ft_faculty_rate', 'avg_net_price', 'number_titleIV', 'sat_avg']]\n",
    "target = pred_high[['rankingSortRank']]"
   ]
  },
  {
   "cell_type": "code",
   "execution_count": 9,
   "id": "66eba9b5",
   "metadata": {},
   "outputs": [
    {
     "name": "stdout",
     "output_type": "stream",
     "text": [
      "[1, 2, 3, 3, 5, 5, 5, 8, 9, 10, 11, 11, 11, 14, 14, 14, 18, 18, 20, 21, 21, 21, 25, 25, 27, 28, 29, 30, 32, 34, 34, 37, 37, 40, 42, 42, 46, 46, 46, 56, 56, 56, 61, 81, 87, 87, 94, 97, 103, 103, 110, 124, 124, 133, 140, 151, 156, 159, 165, 171, 176, 176, 181, 187, 187, 192, 192, 198, 198, 202, 202, 202, 202, 207, 207, 207, 207, 216, 216, 216, 216, 216, 223, 223, 223, 223, 223, 223, -1, -1, -1, -1, -1, -1, -1, -1, -1, -1, -1, -1, -1, -1, -1, -1, -1, -1, -1, -1, -1, -1, -1, -1, -1, -1, -1, -1, -1, -1, -1, -1, -1, -1, -1, -1, -1, -1, -1, -1, -1, -1, -1, -1, -1, -1, -1, -1, -1, -1, -1, -1, -1, -1, -1, -1, -1, -1, -1, -1, -1, -1]\n",
      "-----\n",
      "[3, 14, 14, 10, 5, 5, 5, 5, 11, 3, 14, 18, 14, 25, 11, 3, 46, 3, 25, 11, 18, 21, 20, 140, 11, 25, 32, 28, 46, 42, 18, 46, 11, 46, 94, 46, 27, 42, 56, 87, 46, 207, 37, 42, 42, -1, 40, 25, 87, 124, 87, 156, 103, -1, 46, 176, -1, 192, 103, -1, -1, -1, 87, -1, -1, -1, 198, -1, 216, -1, -1, 181, 124, -1, -1, 159, -1, 176, -1, -1, -1, -1, -1, 103, -1, -1, -1, -1, 223, -1, -1, -1, 207, -1, -1, -1, -1, 151, -1, -1, 223, 151, -1, -1, -1, -1, -1, -1, 192, 202, 202, -1, 223, -1, -1, -1, -1, -1, -1, -1, -1, -1, -1, -1, -1, 176, -1, -1, -1, 207, -1, -1, -1, -1, -1, -1, -1, -1, 103, -1, -1, -1, 223, 202, -1, -1, -1, -1, -1, 207]\n",
      "Accuracy: 0.34\n"
     ]
    }
   ],
   "source": [
    "# use loocv to predict and get accuracy\n",
    "loocv = LeaveOneOut()\n",
    "loocv.get_n_splits(preds)\n",
    "\n",
    "model = LogisticRegression()\n",
    "\n",
    "true = []\n",
    "predicted = []\n",
    "\n",
    "for train_index, test_index in loocv.split(preds):\n",
    "\n",
    "    X_train = preds.loc[train_index]\n",
    "    X_test = preds.loc[test_index]\n",
    "    y_train = target.loc[train_index]\n",
    "    y_test = target.loc[test_index]\n",
    "    \n",
    "    model.fit(X_train, y_train)\n",
    "\n",
    "    y_pred = model.predict(X_test)\n",
    "\n",
    "    true.append(y_test['rankingSortRank'].values[0])\n",
    "    predicted.append(y_pred[0])\n",
    "    \n",
    "print(true)\n",
    "print(\"-----\")\n",
    "print(predicted)\n",
    "accuracy = accuracy_score(true, predicted)\n",
    "\n",
    "print(\"Accuracy:\", accuracy) # accuracy score for specific rank predicting, will do classification accuracy later"
   ]
  },
  {
   "cell_type": "code",
   "execution_count": 23,
   "id": "e893927d",
   "metadata": {},
   "outputs": [
    {
     "name": "stdout",
     "output_type": "stream",
     "text": [
      "[0, 1, 2, 3, 4, 5, 6, 7, 8, 9, 10, 11, 12, 13, 14, 15, 16, 17, 18, 19, 20, 21, 22, 23, 24, 25, 26, 88, 89, 90, 91, 92, 93, 94, 95, 96, 97, 98, 99, 100, 101, 102, 103, 104, 105, 106, 107, 108, 109, 110, 111, 112, 113, 114, 115, 116, 117, 118, 119, 120, 121, 122, 123, 124, 125, 126, 127, 128, 129, 130, 131, 132, 133, 134, 135, 136, 137, 138, 139, 140, 141, 142, 143, 144, 145, 146, 147, 148, 149]\n",
      "-----\n",
      "[27, 28, 29, 30, 31, 32, 33, 34, 35, 36, 37, 38, 39, 40, 41, 42, 43, 44, 45, 46, 47, 48, 49, 50, 51, 52, 53, 54, 55, 56, 57, 58, 59, 60, 61, 62, 63, 64, 65, 66, 67, 68, 69, 70, 71, 72, 73, 74, 75, 76, 77, 78, 79, 80, 81, 82, 83, 84, 85, 86, 87]\n",
      "prediction below-----------------\n",
      "[0, 1, 2, 3, 4, 5, 6, 7, 8, 9, 10, 11, 12, 13, 14, 15, 16, 17, 18, 19, 20, 21, 22, 24, 25, 26, 27, 28, 29, 30, 31, 32, 33, 35, 36, 37, 40, 42, 43, 44, 45, 46, 47, 53, 54, 56, 59, 60, 61, 63, 64, 65, 67, 69, 70, 73, 74, 76, 78, 79, 80, 81, 82, 84, 85, 86, 87, 89, 90, 91, 93, 94, 95, 96, 98, 99, 102, 103, 104, 105, 106, 107, 111, 113, 114, 115, 116, 117, 118, 119, 120, 121, 122, 123, 124, 126, 127, 128, 130, 131, 132, 133, 134, 135, 136, 137, 139, 140, 141, 144, 145, 146, 147, 148]\n",
      "-----\n",
      "[23, 34, 38, 39, 41, 48, 49, 50, 51, 52, 55, 57, 58, 62, 66, 68, 71, 72, 75, 77, 83, 88, 92, 97, 100, 101, 108, 109, 110, 112, 125, 129, 138, 142, 143, 149]\n"
     ]
    }
   ],
   "source": [
    "loocv = LeaveOneOut()\n",
    "loocv.get_n_splits(preds)\n",
    "\n",
    "model = LogisticRegression()\n",
    "\n",
    "true = []\n",
    "predicted = []\n",
    "\n",
    "high_df = []\n",
    "med_high_df = []\n",
    "high_predicted = []\n",
    "med_high_predicted = []\n",
    "\n",
    "for train_index, test_index in loocv.split(preds):\n",
    "\n",
    "    X_train = preds.loc[train_index]\n",
    "    X_test = preds.loc[test_index]\n",
    "    y_train = target.loc[train_index]\n",
    "    y_test = target.loc[test_index]\n",
    "    \n",
    "    model.fit(X_train, y_train)\n",
    "\n",
    "    y_pred = model.predict(X_test)\n",
    "\n",
    "    true.append(y_test['rankingSortRank'].values[0])\n",
    "    predicted.append(y_pred[0])\n",
    "    \n",
    "    #classifying into high and medium high\n",
    "    \n",
    "    if y_test['rankingSortRank'].values[0] < 30:\n",
    "        high_df.append(test_index[0])\n",
    "    else:\n",
    "        med_high_df.append(test_index[0])\n",
    "    if y_pred[0] < 50:\n",
    "        high_predicted.append(test_index[0])\n",
    "    else:\n",
    "        med_high_predicted.append(test_index[0])\n",
    "\n",
    "print(high_df)\n",
    "print(\"-----\")\n",
    "print(med_high_df)\n",
    "print(\"prediction below-----------------\")\n",
    "print(high_predicted)\n",
    "print(\"-----\")\n",
    "print(med_high_predicted)"
   ]
  },
  {
   "cell_type": "code",
   "execution_count": 20,
   "id": "e3a2c0f8",
   "metadata": {},
   "outputs": [
    {
     "data": {
      "text/plain": [
       "69"
      ]
     },
     "execution_count": 20,
     "metadata": {},
     "output_type": "execute_result"
    }
   ],
   "source": [
    "correct_h = 0\n",
    "for i in high_df:\n",
    "    for j in high_predicted:\n",
    "        if i ==j:\n",
    "            correct_h = correct_h + 1 \n",
    "correct_h          "
   ]
  },
  {
   "cell_type": "code",
   "execution_count": 21,
   "id": "8eeb48ed",
   "metadata": {},
   "outputs": [
    {
     "data": {
      "text/plain": [
       "21"
      ]
     },
     "execution_count": 21,
     "metadata": {},
     "output_type": "execute_result"
    }
   ],
   "source": [
    "correct_m = 0\n",
    "for i in med_high_df:\n",
    "    for j in med_high_predicted:\n",
    "        if i ==j:\n",
    "            correct_m = correct_m + 1 \n",
    "correct_m"
   ]
  },
  {
   "cell_type": "code",
   "execution_count": 22,
   "id": "d330f528",
   "metadata": {},
   "outputs": [
    {
     "data": {
      "text/plain": [
       "0.6"
      ]
     },
     "execution_count": 22,
     "metadata": {},
     "output_type": "execute_result"
    }
   ],
   "source": [
    "# accuracy rate for classifying\n",
    "(correct_h +correct_m)/pred_high.shape[0]"
   ]
  },
  {
   "cell_type": "code",
   "execution_count": 24,
   "id": "4cd59057",
   "metadata": {},
   "outputs": [],
   "source": [
    "# selecting columns in int and float type for loocv but using the dataset that drops -1 rankings\n",
    "preds = pred_high_230[['act_avg', 'sat_avg','percent_receiving_aid',\n",
    "       'cost_after_aid', 'hs_gpa_avg','businessRepScore', 'tuition',\n",
    "       'engineeringRepScore','branches', 'admission_rate', \n",
    "       'ug_enrollment', 'percent_white', 'percent_black', 'percent_hispanic',\n",
    "       'percent_asian', 'percent_aian', 'percent_nhpi', 'percent_twoormore',\n",
    "       'percent_nra', 'percent_unknown', 'percent_parttime', 'avg_cost',\n",
    "       'instante_tuition', 'outstate_tuition', 'tuition_revenue_per',\n",
    "       'instructional_expenditure_per', 'avg_faculty_salary',\n",
    "       'ft_faculty_rate', 'avg_net_price', 'number_titleIV', 'sat_avg']]\n",
    "target = pred_high_230[['rankingSortRank']]"
   ]
  },
  {
   "cell_type": "code",
   "execution_count": 25,
   "id": "04adedff",
   "metadata": {},
   "outputs": [
    {
     "name": "stdout",
     "output_type": "stream",
     "text": [
      "[1, 2, 3, 3, 5, 5, 5, 8, 9, 10, 11, 11, 11, 14, 14, 14, 18, 18, 20, 21, 21, 21, 25, 25, 27, 28, 29, 30, 32, 34, 34, 37, 37, 40, 42, 42, 46, 46, 46, 56, 56, 56, 61, 81, 81, 87, 94, 97, 103, 110, 124, 140, 145, 159, 165]\n",
      "-----\n",
      "[3, 14, 14, 10, 8, 5, 3, 5, 21, 3, 14, 18, 18, 25, 11, 1, 46, 3, 11, 11, 30, 21, 11, 140, 11, 25, 32, 25, 46, 94, 11, 46, 11, 94, 94, 124, 29, 42, 56, 42, 61, 145, 37, 103, 56, 42, 40, 25, 42, 81, 165, 46, 18, 81, 124]\n",
      "Accuracy: 0.03636363636363636\n"
     ]
    }
   ],
   "source": [
    "# use loocv to predict and get accuracy\n",
    "loocv = LeaveOneOut()\n",
    "loocv.get_n_splits(preds)\n",
    "\n",
    "model = LogisticRegression()\n",
    "\n",
    "true = []\n",
    "predicted = []\n",
    "\n",
    "for train_index, test_index in loocv.split(preds):\n",
    "\n",
    "    X_train = preds.loc[train_index]\n",
    "    X_test = preds.loc[test_index]\n",
    "    y_train = target.loc[train_index]\n",
    "    y_test = target.loc[test_index]\n",
    "    \n",
    "    model.fit(X_train, y_train)\n",
    "\n",
    "    y_pred = model.predict(X_test)\n",
    "\n",
    "    true.append(y_test['rankingSortRank'].values[0])\n",
    "    predicted.append(y_pred[0])\n",
    "    \n",
    "print(true)\n",
    "print(\"-----\")\n",
    "print(predicted)\n",
    "accuracy = accuracy_score(true, predicted)\n",
    "\n",
    "print(\"Accuracy:\", accuracy) # accuracy score for specific rank predicting, will do classification accuracy later"
   ]
  },
  {
   "cell_type": "code",
   "execution_count": 26,
   "id": "d77852b2",
   "metadata": {},
   "outputs": [
    {
     "name": "stdout",
     "output_type": "stream",
     "text": [
      "[0, 1, 2, 3, 4, 5, 6, 7, 8, 9, 10, 11, 12, 13, 14, 15, 16, 17, 18, 19, 20, 21, 22, 23, 24, 25, 26]\n",
      "-----\n",
      "[27, 28, 29, 30, 31, 32, 33, 34, 35, 36, 37, 38, 39, 40, 41, 42, 43, 44, 45, 46, 47, 48, 49, 50, 51, 52, 53, 54]\n",
      "prediction below-----------------\n",
      "[0, 1, 2, 3, 4, 5, 6, 7, 8, 9, 10, 11, 12, 13, 14, 15, 16, 17, 18, 19, 20, 21, 22, 24, 25, 26, 27, 28, 30, 31, 32, 36, 37, 39, 42, 45, 46, 47, 48, 51, 52]\n",
      "-----\n",
      "[23, 29, 33, 34, 35, 38, 40, 41, 43, 44, 49, 50, 53, 54]\n"
     ]
    }
   ],
   "source": [
    "loocv = LeaveOneOut()\n",
    "loocv.get_n_splits(preds)\n",
    "\n",
    "model = LogisticRegression()\n",
    "\n",
    "true = []\n",
    "predicted = []\n",
    "\n",
    "high_df = []\n",
    "med_high_df = []\n",
    "high_predicted = []\n",
    "med_high_predicted = []\n",
    "\n",
    "for train_index, test_index in loocv.split(preds):\n",
    "\n",
    "    X_train = preds.loc[train_index]\n",
    "    X_test = preds.loc[test_index]\n",
    "    y_train = target.loc[train_index]\n",
    "    y_test = target.loc[test_index]\n",
    "    \n",
    "    model.fit(X_train, y_train)\n",
    "\n",
    "    y_pred = model.predict(X_test)\n",
    "\n",
    "    true.append(y_test['rankingSortRank'].values[0])\n",
    "    predicted.append(y_pred[0])\n",
    "    \n",
    "    #classifying into high and medium high\n",
    "    \n",
    "    if y_test['rankingSortRank'].values[0] < 30:\n",
    "        high_df.append(test_index[0])\n",
    "    else:\n",
    "        med_high_df.append(test_index[0])\n",
    "    if y_pred[0] < 50:\n",
    "        high_predicted.append(test_index[0])\n",
    "    else:\n",
    "        med_high_predicted.append(test_index[0])\n",
    "\n",
    "print(high_df)\n",
    "print(\"-----\")\n",
    "print(med_high_df)\n",
    "print(\"prediction below-----------------\")\n",
    "print(high_predicted)\n",
    "print(\"-----\")\n",
    "print(med_high_predicted)"
   ]
  },
  {
   "cell_type": "code",
   "execution_count": 27,
   "id": "947d1956",
   "metadata": {},
   "outputs": [
    {
     "data": {
      "text/plain": [
       "26"
      ]
     },
     "execution_count": 27,
     "metadata": {},
     "output_type": "execute_result"
    }
   ],
   "source": [
    "correct_h = 0\n",
    "for i in high_df:\n",
    "    for j in high_predicted:\n",
    "        if i ==j:\n",
    "            correct_h = correct_h + 1 \n",
    "correct_h          "
   ]
  },
  {
   "cell_type": "code",
   "execution_count": 28,
   "id": "431fdca1",
   "metadata": {},
   "outputs": [
    {
     "data": {
      "text/plain": [
       "13"
      ]
     },
     "execution_count": 28,
     "metadata": {},
     "output_type": "execute_result"
    }
   ],
   "source": [
    "correct_m = 0\n",
    "for i in med_high_df:\n",
    "    for j in med_high_predicted:\n",
    "        if i ==j:\n",
    "            correct_m = correct_m + 1 \n",
    "correct_m"
   ]
  },
  {
   "cell_type": "code",
   "execution_count": 30,
   "id": "60873f61",
   "metadata": {},
   "outputs": [
    {
     "data": {
      "text/plain": [
       "0.7090909090909091"
      ]
     },
     "execution_count": 30,
     "metadata": {},
     "output_type": "execute_result"
    }
   ],
   "source": [
    "# accuracy rate for classifying\n",
    "(correct_h +correct_m)/pred_high_230.shape[0]"
   ]
  },
  {
   "cell_type": "code",
   "execution_count": 33,
   "id": "d86e18ed",
   "metadata": {},
   "outputs": [],
   "source": [
    "predicted_high = pred_high.iloc[[0, 1, 2, 3, 4, 5, 6, 7, 8, 9, 10, 11, 12, 13, 14, 15, 16, 17, 18, 19, 20, 21, 22, 24, 25, 26, 27, 28, 30, 31, 32, 36, 37, 39, 42, 45, 46, 47, 48, 51, 52]]\n",
    "predicted_high.to_csv(\"predicted_high_submodel_230.csv\")\n",
    "predicted_med_high = pred_high.iloc[[23, 29, 33, 34, 35, 38, 40, 41, 43, 44, 49, 50, 53, 54]]\n",
    "predicted_med_high.to_csv(\"predicted_medium_high_submodel_230.csv\")"
   ]
  },
  {
   "cell_type": "code",
   "execution_count": null,
   "id": "7a2624f5",
   "metadata": {},
   "outputs": [],
   "source": []
  }
 ],
 "metadata": {
  "kernelspec": {
   "display_name": "Python 3",
   "language": "python",
   "name": "python3"
  },
  "language_info": {
   "codemirror_mode": {
    "name": "ipython",
    "version": 3
   },
   "file_extension": ".py",
   "mimetype": "text/x-python",
   "name": "python",
   "nbconvert_exporter": "python",
   "pygments_lexer": "ipython3",
   "version": "3.8.8"
  }
 },
 "nbformat": 4,
 "nbformat_minor": 5
}
